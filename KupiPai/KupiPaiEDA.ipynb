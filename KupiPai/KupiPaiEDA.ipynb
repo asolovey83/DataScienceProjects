{
 "cells": [
  {
   "cell_type": "markdown",
   "id": "ba2ff814",
   "metadata": {},
   "source": [
    "## Predicting Land Lot Price Project"
   ]
  },
  {
   "cell_type": "markdown",
   "id": "fc583aa5",
   "metadata": {},
   "source": [
    "#### This project is dedicated to predicting a land lot value based on the data that is parsed from KupiPai site"
   ]
  },
  {
   "cell_type": "markdown",
   "id": "c471ed0f",
   "metadata": {},
   "source": [
    "#### Feature description:\n",
    "* status - selling status of the land lot, categorical\n",
    "* statusDisplay - text representation of the selling status of the land lot\n",
    "* identifier - some kind of identifier\n",
    "* description - lot's text description (to remove)\n",
    "* cadaster - lot's cadaster identifier \n",
    "* currency - lot's price currency\n",
    "* price - the lot's price, a target feature\n",
    "* basePrice - the feature with the same values as the price feature\n",
    "* pricePerOne - looks like this is the price per one unit of measure\n",
    "* estimatePrice - not clear what it is, but let's keep it for now\n",
    "* estimateDate - not sure what it means, but it is definitely a date in the past. Maybe the date when this lot came to the market\n",
    "* lastRentPayDate - probably the date when the last rent should have been or would be paid according to the contract\n",
    "* rentRate - not sure what it is\n",
    "* baseRentRate - something similar to rentRate\n",
    "* rentRateClean - probably rentRate after taxes\n",
    "* baseRentRateClean - probably baseRentRate after taxes\n",
    "* rentalYield - land lot profitability\n",
    "* rentPeriod - most probably period of rent. However, the values are strange\n",
    "* purpose - the objective of using a land lot\n",
    "* ownership - the type of ownership\n",
    "* koatuuLocation - lot location by KOATUU\n",
    "* geoPath - numeric representation of KOATUU location feature\n",
    "* geoLocation - geo location of a land lot\n",
    "* geoCoordinates - geo coordinates of a land lot\n",
    "* ownerType - the type of the owner. It's not clear what it means, no variability however\n",
    "* ownerEdrpou - EDRPOU code of the owner. As long as each person has it's own EDRPOU code, the repeating value of this feature in the dataset means that one and the same owner sells several land lots\n",
    "* ownerName - the name of the owner of the land lot\n",
    "* ownerPhone - the phone number of the owner\n",
    "* renterCompany - some kind of a characteristic of a renter company\n",
    "* renterType - type of a renter, no variability\n",
    "* renterEdrpou - EDRPOU code of the owner. As long as each company has it's own EDRPOU code, the repeating value of this feature in the dataset means that one and the same company rents several land lots\n",
    "* renterName - the name of the renter\n",
    "* renterContactName - a contact person on the renter side\n",
    "* renterContactPhone - a contact phone of a contact person on the renter side\n",
    "* canEdit - a purely technical feature\n",
    "* author - a purely technical feature with all missing values\n",
    "* owner - another technical feature without variability\n",
    "* isAvailable - looks like a marker of the land lot availability"
   ]
  },
  {
   "cell_type": "markdown",
   "id": "de4983a2",
   "metadata": {},
   "source": [
    "## Libraries import and loading dataset"
   ]
  },
  {
   "cell_type": "code",
   "execution_count": 121,
   "id": "13518c98",
   "metadata": {},
   "outputs": [],
   "source": [
    "import pandas as pd\n",
    "import seaborn as sns\n",
    "import numpy as np\n",
    "import datetime\n",
    "\n",
    "from scipy.stats.mstats import winsorize"
   ]
  },
  {
   "cell_type": "code",
   "execution_count": 122,
   "id": "698bf60d",
   "metadata": {},
   "outputs": [],
   "source": [
    "df = pd.read_csv('land_lots.csv')"
   ]
  },
  {
   "cell_type": "markdown",
   "id": "69e404d9",
   "metadata": {},
   "source": [
    "## Necessary functions"
   ]
  },
  {
   "cell_type": "code",
   "execution_count": 123,
   "id": "512769fe",
   "metadata": {},
   "outputs": [],
   "source": [
    "# A function that calculates the number of outliers\n",
    "def detect_outliers(data):\n",
    "    outliers_num = 0\n",
    "    outliers_list = []\n",
    "    \n",
    "    q1 = data.quantile(0.25)\n",
    "    q3 = data.quantile(0.75)\n",
    "    \n",
    "    IQR = q3-q1\n",
    "    \n",
    "    lower_lim = q1 - 1.5*IQR\n",
    "    upper_lim = q3 + 1.5*IQR\n",
    "    \n",
    "    for item in data:\n",
    "        if item < lower_lim or item > upper_lim:\n",
    "            outliers_list.append(item)\n",
    "            outliers_num += 1\n",
    "    \n",
    "    print(f'Number of outliers are {outliers_num}')\n",
    "    print(f'The outliers are {outliers_list}')\n",
    "    print(f'Upper limit is {upper_lim}')\n",
    "    print(f'Lower limit is {lower_lim}')\n",
    "    \n",
    "\n",
    "# A function that removes rows with the oultiers \n",
    "def remove_outliers(data, column):\n",
    "    print('The number of rows before removing outliers is ', len(data))\n",
    "    \n",
    "    q1 = data[column].quantile(0.25)\n",
    "    q3 = data[column].quantile(0.75)\n",
    "    \n",
    "    IQR = q3-q1\n",
    "    \n",
    "    lower_lim = q1 - 1.5*IQR\n",
    "    upper_lim = q3 + 1.5*IQR    \n",
    "    \n",
    "    for item in data[column]:        \n",
    "        if item < lower_lim or item > upper_lim:\n",
    "            data.drop(df.loc[df[column]==item].index, inplace = True)\n",
    "    print('The number of rows after removing outliers is ', len(data))\n",
    "    return data"
   ]
  },
  {
   "cell_type": "code",
   "execution_count": 124,
   "id": "0fb770d7",
   "metadata": {},
   "outputs": [
    {
     "data": {
      "text/html": [
       "<div>\n",
       "<style scoped>\n",
       "    .dataframe tbody tr th:only-of-type {\n",
       "        vertical-align: middle;\n",
       "    }\n",
       "\n",
       "    .dataframe tbody tr th {\n",
       "        vertical-align: top;\n",
       "    }\n",
       "\n",
       "    .dataframe thead th {\n",
       "        text-align: right;\n",
       "    }\n",
       "</style>\n",
       "<table border=\"1\" class=\"dataframe\">\n",
       "  <thead>\n",
       "    <tr style=\"text-align: right;\">\n",
       "      <th></th>\n",
       "      <th>id</th>\n",
       "      <th>status</th>\n",
       "      <th>statusDisplay</th>\n",
       "      <th>identifier</th>\n",
       "      <th>description</th>\n",
       "      <th>cadastre</th>\n",
       "      <th>currency</th>\n",
       "      <th>price</th>\n",
       "      <th>basePrice</th>\n",
       "      <th>pricePerOne</th>\n",
       "      <th>...</th>\n",
       "      <th>renterType</th>\n",
       "      <th>renterEdrpou</th>\n",
       "      <th>renterName</th>\n",
       "      <th>renterContactName</th>\n",
       "      <th>renterContactPhone</th>\n",
       "      <th>canEdit</th>\n",
       "      <th>author</th>\n",
       "      <th>owner</th>\n",
       "      <th>isAvailable</th>\n",
       "      <th>gallary</th>\n",
       "    </tr>\n",
       "  </thead>\n",
       "  <tbody>\n",
       "    <tr>\n",
       "      <th>0</th>\n",
       "      <td>740</td>\n",
       "      <td>3</td>\n",
       "      <td>Активне</td>\n",
       "      <td>AD-30122021-740</td>\n",
       "      <td>NaN</td>\n",
       "      <td>3222055100:02:003:0298</td>\n",
       "      <td>UAH</td>\n",
       "      <td>120000</td>\n",
       "      <td>120000</td>\n",
       "      <td>61137</td>\n",
       "      <td>...</td>\n",
       "      <td>2</td>\n",
       "      <td>41102844</td>\n",
       "      <td>ТОВ \"Виробниче підприємство \"Полісся\"</td>\n",
       "      <td>Кохно Юрій Антонович</td>\n",
       "      <td>3.806755e+11</td>\n",
       "      <td>False</td>\n",
       "      <td>NaN</td>\n",
       "      <td>{'id': 6, 'title': 'ULF', 'avatar': '/uploads/...</td>\n",
       "      <td>True</td>\n",
       "      <td>[]</td>\n",
       "    </tr>\n",
       "    <tr>\n",
       "      <th>1</th>\n",
       "      <td>739</td>\n",
       "      <td>3</td>\n",
       "      <td>Активне</td>\n",
       "      <td>AD-30122021-739</td>\n",
       "      <td>NaN</td>\n",
       "      <td>3222086800:05:003:0195</td>\n",
       "      <td>UAH</td>\n",
       "      <td>60000</td>\n",
       "      <td>60000</td>\n",
       "      <td>53893</td>\n",
       "      <td>...</td>\n",
       "      <td>2</td>\n",
       "      <td>41102844</td>\n",
       "      <td>ТОВ \"Виробниче підприємство \"Полісся\"</td>\n",
       "      <td>Кохно Юрій Антонович</td>\n",
       "      <td>3.806755e+11</td>\n",
       "      <td>False</td>\n",
       "      <td>NaN</td>\n",
       "      <td>{'id': 6, 'title': 'ULF', 'avatar': '/uploads/...</td>\n",
       "      <td>True</td>\n",
       "      <td>[]</td>\n",
       "    </tr>\n",
       "    <tr>\n",
       "      <th>2</th>\n",
       "      <td>738</td>\n",
       "      <td>4</td>\n",
       "      <td>В процесі укладання угоди купівлі-продажу</td>\n",
       "      <td>AD-29122021-738</td>\n",
       "      <td>NaN</td>\n",
       "      <td>5625880800:06:003:0258</td>\n",
       "      <td>UAH</td>\n",
       "      <td>73499</td>\n",
       "      <td>73499</td>\n",
       "      <td>39914</td>\n",
       "      <td>...</td>\n",
       "      <td>2</td>\n",
       "      <td>41099127</td>\n",
       "      <td>ТОВ \"Західна Агровиробнича компанія\"</td>\n",
       "      <td>Мазур Олексій Михайлович</td>\n",
       "      <td>3.806716e+11</td>\n",
       "      <td>False</td>\n",
       "      <td>NaN</td>\n",
       "      <td>{'id': 6, 'title': 'ULF', 'avatar': '/uploads/...</td>\n",
       "      <td>False</td>\n",
       "      <td>[]</td>\n",
       "    </tr>\n",
       "    <tr>\n",
       "      <th>3</th>\n",
       "      <td>737</td>\n",
       "      <td>3</td>\n",
       "      <td>Активне</td>\n",
       "      <td>AD-29122021-737</td>\n",
       "      <td>NaN</td>\n",
       "      <td>6525082500:07:029:0018</td>\n",
       "      <td>UAH</td>\n",
       "      <td>680000</td>\n",
       "      <td>680000</td>\n",
       "      <td>67156</td>\n",
       "      <td>...</td>\n",
       "      <td>2</td>\n",
       "      <td>41101589</td>\n",
       "      <td>ТОВ \"ЮТС-Агропродукт\"</td>\n",
       "      <td>Семенчук Оксана Олександрівна</td>\n",
       "      <td>3.806721e+11</td>\n",
       "      <td>False</td>\n",
       "      <td>NaN</td>\n",
       "      <td>{'id': 6, 'title': 'ULF', 'avatar': '/uploads/...</td>\n",
       "      <td>True</td>\n",
       "      <td>[]</td>\n",
       "    </tr>\n",
       "    <tr>\n",
       "      <th>4</th>\n",
       "      <td>736</td>\n",
       "      <td>3</td>\n",
       "      <td>Активне</td>\n",
       "      <td>AD-29122021-736</td>\n",
       "      <td>NaN</td>\n",
       "      <td>6525085600:06:052:0009</td>\n",
       "      <td>UAH</td>\n",
       "      <td>385000</td>\n",
       "      <td>385000</td>\n",
       "      <td>67444</td>\n",
       "      <td>...</td>\n",
       "      <td>2</td>\n",
       "      <td>41101589</td>\n",
       "      <td>ТОВ \"ЮТС-Агропродукт\"</td>\n",
       "      <td>Семенчук Оксана Олександрівна</td>\n",
       "      <td>3.806721e+11</td>\n",
       "      <td>False</td>\n",
       "      <td>NaN</td>\n",
       "      <td>{'id': 6, 'title': 'ULF', 'avatar': '/uploads/...</td>\n",
       "      <td>True</td>\n",
       "      <td>[]</td>\n",
       "    </tr>\n",
       "  </tbody>\n",
       "</table>\n",
       "<p>5 rows × 42 columns</p>\n",
       "</div>"
      ],
      "text/plain": [
       "    id  status                              statusDisplay       identifier  \\\n",
       "0  740       3                                    Активне  AD-30122021-740   \n",
       "1  739       3                                    Активне  AD-30122021-739   \n",
       "2  738       4  В процесі укладання угоди купівлі-продажу  AD-29122021-738   \n",
       "3  737       3                                    Активне  AD-29122021-737   \n",
       "4  736       3                                    Активне  AD-29122021-736   \n",
       "\n",
       "  description                cadastre currency   price  basePrice  \\\n",
       "0         NaN  3222055100:02:003:0298      UAH  120000     120000   \n",
       "1         NaN  3222086800:05:003:0195      UAH   60000      60000   \n",
       "2         NaN  5625880800:06:003:0258      UAH   73499      73499   \n",
       "3         NaN  6525082500:07:029:0018      UAH  680000     680000   \n",
       "4         NaN  6525085600:06:052:0009      UAH  385000     385000   \n",
       "\n",
       "   pricePerOne  ...  renterType  renterEdrpou  \\\n",
       "0        61137  ...           2      41102844   \n",
       "1        53893  ...           2      41102844   \n",
       "2        39914  ...           2      41099127   \n",
       "3        67156  ...           2      41101589   \n",
       "4        67444  ...           2      41101589   \n",
       "\n",
       "                              renterName              renterContactName  \\\n",
       "0  ТОВ \"Виробниче підприємство \"Полісся\"           Кохно Юрій Антонович   \n",
       "1  ТОВ \"Виробниче підприємство \"Полісся\"           Кохно Юрій Антонович   \n",
       "2   ТОВ \"Західна Агровиробнича компанія\"       Мазур Олексій Михайлович   \n",
       "3                  ТОВ \"ЮТС-Агропродукт\"  Семенчук Оксана Олександрівна   \n",
       "4                  ТОВ \"ЮТС-Агропродукт\"  Семенчук Оксана Олександрівна   \n",
       "\n",
       "   renterContactPhone  canEdit  author  \\\n",
       "0        3.806755e+11    False     NaN   \n",
       "1        3.806755e+11    False     NaN   \n",
       "2        3.806716e+11    False     NaN   \n",
       "3        3.806721e+11    False     NaN   \n",
       "4        3.806721e+11    False     NaN   \n",
       "\n",
       "                                               owner  isAvailable  gallary  \n",
       "0  {'id': 6, 'title': 'ULF', 'avatar': '/uploads/...         True       []  \n",
       "1  {'id': 6, 'title': 'ULF', 'avatar': '/uploads/...         True       []  \n",
       "2  {'id': 6, 'title': 'ULF', 'avatar': '/uploads/...        False       []  \n",
       "3  {'id': 6, 'title': 'ULF', 'avatar': '/uploads/...         True       []  \n",
       "4  {'id': 6, 'title': 'ULF', 'avatar': '/uploads/...         True       []  \n",
       "\n",
       "[5 rows x 42 columns]"
      ]
     },
     "execution_count": 124,
     "metadata": {},
     "output_type": "execute_result"
    }
   ],
   "source": [
    "df.head()"
   ]
  },
  {
   "cell_type": "code",
   "execution_count": 125,
   "id": "f803f3e2",
   "metadata": {},
   "outputs": [
    {
     "name": "stdout",
     "output_type": "stream",
     "text": [
      "<class 'pandas.core.frame.DataFrame'>\n",
      "RangeIndex: 476 entries, 0 to 475\n",
      "Data columns (total 42 columns):\n",
      " #   Column              Non-Null Count  Dtype  \n",
      "---  ------              --------------  -----  \n",
      " 0   id                  476 non-null    int64  \n",
      " 1   status              476 non-null    int64  \n",
      " 2   statusDisplay       476 non-null    object \n",
      " 3   identifier          476 non-null    object \n",
      " 4   description         9 non-null      object \n",
      " 5   cadastre            476 non-null    object \n",
      " 6   currency            476 non-null    object \n",
      " 7   price               476 non-null    int64  \n",
      " 8   basePrice           476 non-null    int64  \n",
      " 9   pricePerOne         476 non-null    int64  \n",
      " 10  basePricePerOne     476 non-null    int64  \n",
      " 11  estimatePrice       476 non-null    int64  \n",
      " 12  estimateDate        473 non-null    object \n",
      " 13  lastRentPayDate     475 non-null    object \n",
      " 14  rentRate            476 non-null    int64  \n",
      " 15  baseRentRate        476 non-null    int64  \n",
      " 16  rentRateClean       476 non-null    int64  \n",
      " 17  baseRentRateClean   476 non-null    int64  \n",
      " 18  rentalYield         476 non-null    float64\n",
      " 19  rentPeriod          476 non-null    int64  \n",
      " 20  area                476 non-null    float64\n",
      " 21  purpose             476 non-null    object \n",
      " 22  ownership           476 non-null    object \n",
      " 23  koatuuLocation      472 non-null    object \n",
      " 24  geoPath             476 non-null    object \n",
      " 25  geoLocation         476 non-null    object \n",
      " 26  geoCoordinates      476 non-null    object \n",
      " 27  ownerType           476 non-null    int64  \n",
      " 28  ownerEdrpou         476 non-null    int64  \n",
      " 29  ownerName           476 non-null    object \n",
      " 30  ownerPhone          364 non-null    float64\n",
      " 31  renterCompany       475 non-null    float64\n",
      " 32  renterType          476 non-null    int64  \n",
      " 33  renterEdrpou        476 non-null    int64  \n",
      " 34  renterName          476 non-null    object \n",
      " 35  renterContactName   360 non-null    object \n",
      " 36  renterContactPhone  360 non-null    float64\n",
      " 37  canEdit             476 non-null    bool   \n",
      " 38  author              0 non-null      float64\n",
      " 39  owner               475 non-null    object \n",
      " 40  isAvailable         476 non-null    bool   \n",
      " 41  gallary             476 non-null    object \n",
      "dtypes: bool(2), float64(6), int64(16), object(18)\n",
      "memory usage: 149.8+ KB\n"
     ]
    }
   ],
   "source": [
    "df.info()"
   ]
  },
  {
   "cell_type": "code",
   "execution_count": 126,
   "id": "178d39c3",
   "metadata": {},
   "outputs": [
    {
     "data": {
      "text/html": [
       "<div>\n",
       "<style scoped>\n",
       "    .dataframe tbody tr th:only-of-type {\n",
       "        vertical-align: middle;\n",
       "    }\n",
       "\n",
       "    .dataframe tbody tr th {\n",
       "        vertical-align: top;\n",
       "    }\n",
       "\n",
       "    .dataframe thead th {\n",
       "        text-align: right;\n",
       "    }\n",
       "</style>\n",
       "<table border=\"1\" class=\"dataframe\">\n",
       "  <thead>\n",
       "    <tr style=\"text-align: right;\">\n",
       "      <th></th>\n",
       "      <th>id</th>\n",
       "      <th>status</th>\n",
       "      <th>statusDisplay</th>\n",
       "      <th>identifier</th>\n",
       "      <th>description</th>\n",
       "      <th>cadastre</th>\n",
       "      <th>currency</th>\n",
       "      <th>price</th>\n",
       "      <th>basePrice</th>\n",
       "      <th>pricePerOne</th>\n",
       "      <th>...</th>\n",
       "      <th>renterType</th>\n",
       "      <th>renterEdrpou</th>\n",
       "      <th>renterName</th>\n",
       "      <th>renterContactName</th>\n",
       "      <th>renterContactPhone</th>\n",
       "      <th>canEdit</th>\n",
       "      <th>author</th>\n",
       "      <th>owner</th>\n",
       "      <th>isAvailable</th>\n",
       "      <th>gallary</th>\n",
       "    </tr>\n",
       "  </thead>\n",
       "  <tbody>\n",
       "    <tr>\n",
       "      <th>193</th>\n",
       "      <td>503</td>\n",
       "      <td>3</td>\n",
       "      <td>Активне</td>\n",
       "      <td>AD-01112021-503</td>\n",
       "      <td>Два співвласники</td>\n",
       "      <td>6525085600:06:053:0004</td>\n",
       "      <td>UAH</td>\n",
       "      <td>380000</td>\n",
       "      <td>380000</td>\n",
       "      <td>61955</td>\n",
       "      <td>...</td>\n",
       "      <td>2</td>\n",
       "      <td>41101589</td>\n",
       "      <td>ТОВ \"ЮТС-Агропродукт\"</td>\n",
       "      <td>Семенчук Оксана Олександрівна</td>\n",
       "      <td>3.806721e+11</td>\n",
       "      <td>False</td>\n",
       "      <td>NaN</td>\n",
       "      <td>{'id': 6, 'title': 'ULF', 'avatar': '/uploads/...</td>\n",
       "      <td>True</td>\n",
       "      <td>[]</td>\n",
       "    </tr>\n",
       "    <tr>\n",
       "      <th>203</th>\n",
       "      <td>492</td>\n",
       "      <td>4</td>\n",
       "      <td>В процесі укладання угоди купівлі-продажу</td>\n",
       "      <td>AD-24102021-492</td>\n",
       "      <td>Два співвласника:\\nЖебуль Володимир Миколайови...</td>\n",
       "      <td>5320485500:00:001:0165</td>\n",
       "      <td>UAH</td>\n",
       "      <td>208000</td>\n",
       "      <td>208000</td>\n",
       "      <td>60040</td>\n",
       "      <td>...</td>\n",
       "      <td>2</td>\n",
       "      <td>41103827</td>\n",
       "      <td>ТОВ \"Агро-Край\"</td>\n",
       "      <td>Щур Вікторія Вікторівна</td>\n",
       "      <td>3.806751e+11</td>\n",
       "      <td>False</td>\n",
       "      <td>NaN</td>\n",
       "      <td>{'id': 6, 'title': 'ULF', 'avatar': '/uploads/...</td>\n",
       "      <td>False</td>\n",
       "      <td>[]</td>\n",
       "    </tr>\n",
       "    <tr>\n",
       "      <th>234</th>\n",
       "      <td>449</td>\n",
       "      <td>3</td>\n",
       "      <td>Активне</td>\n",
       "      <td>AD-19102021-449</td>\n",
       "      <td>Два співвласника:\\nГончаренко Наталя Петрівна ...</td>\n",
       "      <td>4820982400:03:000:0142</td>\n",
       "      <td>UAH</td>\n",
       "      <td>20000</td>\n",
       "      <td>20000</td>\n",
       "      <td>57142</td>\n",
       "      <td>...</td>\n",
       "      <td>2</td>\n",
       "      <td>41107067</td>\n",
       "      <td>ТОВ \"Південь Агро Інвест\"</td>\n",
       "      <td>Люц Вікторія Юріївна</td>\n",
       "      <td>3.806751e+11</td>\n",
       "      <td>False</td>\n",
       "      <td>NaN</td>\n",
       "      <td>{'id': 6, 'title': 'ULF', 'avatar': '/uploads/...</td>\n",
       "      <td>True</td>\n",
       "      <td>[]</td>\n",
       "    </tr>\n",
       "    <tr>\n",
       "      <th>235</th>\n",
       "      <td>448</td>\n",
       "      <td>3</td>\n",
       "      <td>Активне</td>\n",
       "      <td>AD-19102021-448</td>\n",
       "      <td>Два співвласника:\\nГончаренко Наталя Петрівна ...</td>\n",
       "      <td>4820982400:03:000:0036</td>\n",
       "      <td>UAH</td>\n",
       "      <td>480000</td>\n",
       "      <td>480000</td>\n",
       "      <td>44058</td>\n",
       "      <td>...</td>\n",
       "      <td>2</td>\n",
       "      <td>41107067</td>\n",
       "      <td>ТОВ \"Південь Агро Інвест\"</td>\n",
       "      <td>Люц Вікторія Юріївна</td>\n",
       "      <td>3.806751e+11</td>\n",
       "      <td>False</td>\n",
       "      <td>NaN</td>\n",
       "      <td>{'id': 6, 'title': 'ULF', 'avatar': '/uploads/...</td>\n",
       "      <td>True</td>\n",
       "      <td>[]</td>\n",
       "    </tr>\n",
       "    <tr>\n",
       "      <th>283</th>\n",
       "      <td>391</td>\n",
       "      <td>3</td>\n",
       "      <td>Активне</td>\n",
       "      <td>AD-06102021-391</td>\n",
       "      <td>Три співвласника:\\nКолісник Валентина Василівн...</td>\n",
       "      <td>5320483000:00:001:0212</td>\n",
       "      <td>UAH</td>\n",
       "      <td>130000</td>\n",
       "      <td>130000</td>\n",
       "      <td>58711</td>\n",
       "      <td>...</td>\n",
       "      <td>2</td>\n",
       "      <td>41103827</td>\n",
       "      <td>ТОВ \"Агро-Край\"</td>\n",
       "      <td>Щур Вікторія Вікторівна</td>\n",
       "      <td>3.806751e+11</td>\n",
       "      <td>False</td>\n",
       "      <td>NaN</td>\n",
       "      <td>{'id': 6, 'title': 'ULF', 'avatar': '/uploads/...</td>\n",
       "      <td>True</td>\n",
       "      <td>[]</td>\n",
       "    </tr>\n",
       "    <tr>\n",
       "      <th>312</th>\n",
       "      <td>341</td>\n",
       "      <td>4</td>\n",
       "      <td>В процесі укладання угоди купівлі-продажу</td>\n",
       "      <td>AD-24092021-32</td>\n",
       "      <td>Усі нотаріальні послуги оплачує інвестор</td>\n",
       "      <td>7422781000:02:003:0743</td>\n",
       "      <td>UAH</td>\n",
       "      <td>10843</td>\n",
       "      <td>10843</td>\n",
       "      <td>13540</td>\n",
       "      <td>...</td>\n",
       "      <td>2</td>\n",
       "      <td>41105190</td>\n",
       "      <td>ТОВ \"Гетьманське\"</td>\n",
       "      <td>Третьяков Віталій Васильович</td>\n",
       "      <td>3.806754e+11</td>\n",
       "      <td>False</td>\n",
       "      <td>NaN</td>\n",
       "      <td>{'id': 6, 'title': 'ULF', 'avatar': '/uploads/...</td>\n",
       "      <td>False</td>\n",
       "      <td>[]</td>\n",
       "    </tr>\n",
       "    <tr>\n",
       "      <th>372</th>\n",
       "      <td>239</td>\n",
       "      <td>4</td>\n",
       "      <td>В процесі укладання угоди купівлі-продажу</td>\n",
       "      <td>AD-10092021-1</td>\n",
       "      <td>5 співвласників:\\nОлефіренко Лідія Олексіївна ...</td>\n",
       "      <td>5920380800:01:001:0219</td>\n",
       "      <td>UAH</td>\n",
       "      <td>150000</td>\n",
       "      <td>150000</td>\n",
       "      <td>45344</td>\n",
       "      <td>...</td>\n",
       "      <td>2</td>\n",
       "      <td>34264631</td>\n",
       "      <td>ТОВ \"Райз Північ\"</td>\n",
       "      <td>NaN</td>\n",
       "      <td>NaN</td>\n",
       "      <td>False</td>\n",
       "      <td>NaN</td>\n",
       "      <td>{'id': 6, 'title': 'ULF', 'avatar': '/uploads/...</td>\n",
       "      <td>False</td>\n",
       "      <td>[]</td>\n",
       "    </tr>\n",
       "    <tr>\n",
       "      <th>427</th>\n",
       "      <td>147</td>\n",
       "      <td>3</td>\n",
       "      <td>Активне</td>\n",
       "      <td>AD-13082021-31</td>\n",
       "      <td>Два співвласника по 50%:\\r\\nГрищеня Наталія Пе...</td>\n",
       "      <td>6523584000:04:001:0013</td>\n",
       "      <td>UAH</td>\n",
       "      <td>480000</td>\n",
       "      <td>480000</td>\n",
       "      <td>69064</td>\n",
       "      <td>...</td>\n",
       "      <td>2</td>\n",
       "      <td>41101589</td>\n",
       "      <td>ТОВ \"ЮТС-Агропродукт\"</td>\n",
       "      <td>Семенчук Оксана Александровна</td>\n",
       "      <td>3.806721e+11</td>\n",
       "      <td>False</td>\n",
       "      <td>NaN</td>\n",
       "      <td>{'id': 6, 'title': 'ULF', 'avatar': '/uploads/...</td>\n",
       "      <td>True</td>\n",
       "      <td>[]</td>\n",
       "    </tr>\n",
       "    <tr>\n",
       "      <th>475</th>\n",
       "      <td>47</td>\n",
       "      <td>4</td>\n",
       "      <td>В процесі укладання угоди купівлі-продажу</td>\n",
       "      <td>AD-21072021-3</td>\n",
       "      <td>У ділянки два співвласника по 50%:\\r\\nДругий с...</td>\n",
       "      <td>6324283500:02:001:0673</td>\n",
       "      <td>UAH</td>\n",
       "      <td>190642</td>\n",
       "      <td>190642</td>\n",
       "      <td>43334</td>\n",
       "      <td>...</td>\n",
       "      <td>2</td>\n",
       "      <td>34264631</td>\n",
       "      <td>ТОВ \"Райз Північ\"</td>\n",
       "      <td>NaN</td>\n",
       "      <td>NaN</td>\n",
       "      <td>False</td>\n",
       "      <td>NaN</td>\n",
       "      <td>{'id': 6, 'title': 'ULF', 'avatar': '/uploads/...</td>\n",
       "      <td>False</td>\n",
       "      <td>[]</td>\n",
       "    </tr>\n",
       "  </tbody>\n",
       "</table>\n",
       "<p>9 rows × 42 columns</p>\n",
       "</div>"
      ],
      "text/plain": [
       "      id  status                              statusDisplay       identifier  \\\n",
       "193  503       3                                    Активне  AD-01112021-503   \n",
       "203  492       4  В процесі укладання угоди купівлі-продажу  AD-24102021-492   \n",
       "234  449       3                                    Активне  AD-19102021-449   \n",
       "235  448       3                                    Активне  AD-19102021-448   \n",
       "283  391       3                                    Активне  AD-06102021-391   \n",
       "312  341       4  В процесі укладання угоди купівлі-продажу   AD-24092021-32   \n",
       "372  239       4  В процесі укладання угоди купівлі-продажу    AD-10092021-1   \n",
       "427  147       3                                    Активне   AD-13082021-31   \n",
       "475   47       4  В процесі укладання угоди купівлі-продажу    AD-21072021-3   \n",
       "\n",
       "                                           description  \\\n",
       "193                                   Два співвласники   \n",
       "203  Два співвласника:\\nЖебуль Володимир Миколайови...   \n",
       "234  Два співвласника:\\nГончаренко Наталя Петрівна ...   \n",
       "235  Два співвласника:\\nГончаренко Наталя Петрівна ...   \n",
       "283  Три співвласника:\\nКолісник Валентина Василівн...   \n",
       "312           Усі нотаріальні послуги оплачує інвестор   \n",
       "372  5 співвласників:\\nОлефіренко Лідія Олексіївна ...   \n",
       "427  Два співвласника по 50%:\\r\\nГрищеня Наталія Пе...   \n",
       "475  У ділянки два співвласника по 50%:\\r\\nДругий с...   \n",
       "\n",
       "                   cadastre currency   price  basePrice  pricePerOne  ...  \\\n",
       "193  6525085600:06:053:0004      UAH  380000     380000        61955  ...   \n",
       "203  5320485500:00:001:0165      UAH  208000     208000        60040  ...   \n",
       "234  4820982400:03:000:0142      UAH   20000      20000        57142  ...   \n",
       "235  4820982400:03:000:0036      UAH  480000     480000        44058  ...   \n",
       "283  5320483000:00:001:0212      UAH  130000     130000        58711  ...   \n",
       "312  7422781000:02:003:0743      UAH   10843      10843        13540  ...   \n",
       "372  5920380800:01:001:0219      UAH  150000     150000        45344  ...   \n",
       "427  6523584000:04:001:0013      UAH  480000     480000        69064  ...   \n",
       "475  6324283500:02:001:0673      UAH  190642     190642        43334  ...   \n",
       "\n",
       "     renterType  renterEdrpou                 renterName  \\\n",
       "193           2      41101589      ТОВ \"ЮТС-Агропродукт\"   \n",
       "203           2      41103827            ТОВ \"Агро-Край\"   \n",
       "234           2      41107067  ТОВ \"Південь Агро Інвест\"   \n",
       "235           2      41107067  ТОВ \"Південь Агро Інвест\"   \n",
       "283           2      41103827            ТОВ \"Агро-Край\"   \n",
       "312           2      41105190          ТОВ \"Гетьманське\"   \n",
       "372           2      34264631          ТОВ \"Райз Північ\"   \n",
       "427           2      41101589      ТОВ \"ЮТС-Агропродукт\"   \n",
       "475           2      34264631          ТОВ \"Райз Північ\"   \n",
       "\n",
       "                 renterContactName  renterContactPhone  canEdit  author  \\\n",
       "193  Семенчук Оксана Олександрівна        3.806721e+11    False     NaN   \n",
       "203        Щур Вікторія Вікторівна        3.806751e+11    False     NaN   \n",
       "234           Люц Вікторія Юріївна        3.806751e+11    False     NaN   \n",
       "235           Люц Вікторія Юріївна        3.806751e+11    False     NaN   \n",
       "283        Щур Вікторія Вікторівна        3.806751e+11    False     NaN   \n",
       "312   Третьяков Віталій Васильович        3.806754e+11    False     NaN   \n",
       "372                            NaN                 NaN    False     NaN   \n",
       "427  Семенчук Оксана Александровна        3.806721e+11    False     NaN   \n",
       "475                            NaN                 NaN    False     NaN   \n",
       "\n",
       "                                                 owner  isAvailable  gallary  \n",
       "193  {'id': 6, 'title': 'ULF', 'avatar': '/uploads/...         True       []  \n",
       "203  {'id': 6, 'title': 'ULF', 'avatar': '/uploads/...        False       []  \n",
       "234  {'id': 6, 'title': 'ULF', 'avatar': '/uploads/...         True       []  \n",
       "235  {'id': 6, 'title': 'ULF', 'avatar': '/uploads/...         True       []  \n",
       "283  {'id': 6, 'title': 'ULF', 'avatar': '/uploads/...         True       []  \n",
       "312  {'id': 6, 'title': 'ULF', 'avatar': '/uploads/...        False       []  \n",
       "372  {'id': 6, 'title': 'ULF', 'avatar': '/uploads/...        False       []  \n",
       "427  {'id': 6, 'title': 'ULF', 'avatar': '/uploads/...         True       []  \n",
       "475  {'id': 6, 'title': 'ULF', 'avatar': '/uploads/...        False       []  \n",
       "\n",
       "[9 rows x 42 columns]"
      ]
     },
     "execution_count": 126,
     "metadata": {},
     "output_type": "execute_result"
    }
   ],
   "source": [
    "df[df.description.notnull()]"
   ]
  },
  {
   "cell_type": "markdown",
   "id": "9791fd4e",
   "metadata": {},
   "source": [
    "Almost all values of the **description** feature are NA, so we can safely remove it"
   ]
  },
  {
   "cell_type": "code",
   "execution_count": 127,
   "id": "39c79601",
   "metadata": {},
   "outputs": [],
   "source": [
    "df.drop(['description'], axis = 1, inplace = True)"
   ]
  },
  {
   "cell_type": "code",
   "execution_count": 128,
   "id": "4b86e336",
   "metadata": {},
   "outputs": [
    {
     "data": {
      "text/plain": [
       "3    361\n",
       "4    115\n",
       "Name: status, dtype: int64"
      ]
     },
     "execution_count": 128,
     "metadata": {},
     "output_type": "execute_result"
    }
   ],
   "source": [
    "# status\n",
    "df.status.value_counts()"
   ]
  },
  {
   "cell_type": "code",
   "execution_count": 129,
   "id": "bbbda799",
   "metadata": {},
   "outputs": [
    {
     "data": {
      "text/plain": [
       "Активне                                      361\n",
       "В процесі укладання угоди купівлі-продажу    115\n",
       "Name: statusDisplay, dtype: int64"
      ]
     },
     "execution_count": 129,
     "metadata": {},
     "output_type": "execute_result"
    }
   ],
   "source": [
    "# statusDisplay\n",
    "df.statusDisplay.value_counts()"
   ]
  },
  {
   "cell_type": "markdown",
   "id": "8d2bac7c",
   "metadata": {},
   "source": [
    "It looks like the statusDisplay feature is only the text representation of the selling status, so we can get rid of it"
   ]
  },
  {
   "cell_type": "code",
   "execution_count": 130,
   "id": "ccf39306",
   "metadata": {},
   "outputs": [],
   "source": [
    "df.drop(['statusDisplay'], axis = 1, inplace = True)"
   ]
  },
  {
   "cell_type": "code",
   "execution_count": 131,
   "id": "a5f3f5c8",
   "metadata": {},
   "outputs": [],
   "source": [
    "# identifier - as long as this feature doesn`t make any sense, let`s remove it\n",
    "df.drop(['identifier'], axis = 1, inplace = True)"
   ]
  },
  {
   "cell_type": "code",
   "execution_count": 132,
   "id": "7af27c5a",
   "metadata": {},
   "outputs": [],
   "source": [
    "# cadaster is a unique identifier, but we can get the info about region from cadaster feature\n",
    "df['cadastre'] = df['cadastre'].apply(lambda x: x.split(':')[0])"
   ]
  },
  {
   "cell_type": "code",
   "execution_count": 133,
   "id": "e4799462",
   "metadata": {},
   "outputs": [
    {
     "data": {
      "text/plain": [
       "UAH    476\n",
       "Name: currency, dtype: int64"
      ]
     },
     "execution_count": 133,
     "metadata": {},
     "output_type": "execute_result"
    }
   ],
   "source": [
    "# currency\n",
    "df['currency'].value_counts()"
   ]
  },
  {
   "cell_type": "markdown",
   "id": "4ac6a2ad",
   "metadata": {},
   "source": [
    "There is no feature variability for  the currency feature, so let's remove it"
   ]
  },
  {
   "cell_type": "code",
   "execution_count": 134,
   "id": "bdbebf50",
   "metadata": {},
   "outputs": [],
   "source": [
    "df.drop(['currency'], axis = 1, inplace = True)"
   ]
  },
  {
   "cell_type": "markdown",
   "id": "78482af1",
   "metadata": {},
   "source": [
    "The feature **price** is a target feature"
   ]
  },
  {
   "cell_type": "markdown",
   "id": "50fc1090",
   "metadata": {},
   "source": [
    "The following feature a **basePrice** seems to be the same as the **price** feature. Let's check it with corr function"
   ]
  },
  {
   "cell_type": "code",
   "execution_count": 135,
   "id": "6d1db935",
   "metadata": {},
   "outputs": [
    {
     "data": {
      "text/plain": [
       "1.0"
      ]
     },
     "execution_count": 135,
     "metadata": {},
     "output_type": "execute_result"
    }
   ],
   "source": [
    "df['price'].corr(df['basePrice'])"
   ]
  },
  {
   "cell_type": "markdown",
   "id": "840466ed",
   "metadata": {},
   "source": [
    "As was expected we got a 1 as a correlation, so these features have the same value and hence we can remove **basePrice** feature"
   ]
  },
  {
   "cell_type": "code",
   "execution_count": 136,
   "id": "16be6153",
   "metadata": {},
   "outputs": [],
   "source": [
    "df.drop(['basePrice'], axis = 1, inplace = True)"
   ]
  },
  {
   "cell_type": "markdown",
   "id": "e90bf40a",
   "metadata": {},
   "source": [
    "The feature **pricePerOne** seems to be the price per one unit of measure of the lot. Let's validate this assumption with the following expression:"
   ]
  },
  {
   "cell_type": "code",
   "execution_count": 137,
   "id": "80e8bef9",
   "metadata": {},
   "outputs": [
    {
     "data": {
      "text/plain": [
       "True"
      ]
     },
     "execution_count": 137,
     "metadata": {},
     "output_type": "execute_result"
    }
   ],
   "source": [
    "df['pricePerOne'].iloc[0] == int(df['price'].iloc[0]/df['area'].iloc[0])"
   ]
  },
  {
   "cell_type": "markdown",
   "id": "d351e135",
   "metadata": {},
   "source": [
    "Well, our assumption is correct. Anyway the **pricePerOne** feature looks quite promising, so let's keep it for now for the futher analysis"
   ]
  },
  {
   "cell_type": "markdown",
   "id": "3ce64cb9",
   "metadata": {},
   "source": [
    "The feature **basePricePerOne** seems to be the similar situation as it was with **price** and **basePrice**. Let's check the assumption that these two features(**basePricePerOne** and **pricePerOne**) are similar"
   ]
  },
  {
   "cell_type": "code",
   "execution_count": 138,
   "id": "87b64e5e",
   "metadata": {},
   "outputs": [
    {
     "data": {
      "text/plain": [
       "1.0"
      ]
     },
     "execution_count": 138,
     "metadata": {},
     "output_type": "execute_result"
    }
   ],
   "source": [
    "df['pricePerOne'].corr(df['basePricePerOne'])"
   ]
  },
  {
   "cell_type": "markdown",
   "id": "dfe53899",
   "metadata": {},
   "source": [
    "The assumption is correct, so we can get rid of **basePricePerOne** feature"
   ]
  },
  {
   "cell_type": "code",
   "execution_count": 139,
   "id": "809f9389",
   "metadata": {},
   "outputs": [],
   "source": [
    "df.drop(['basePricePerOne'], axis = 1, inplace = True)"
   ]
  },
  {
   "cell_type": "code",
   "execution_count": 140,
   "id": "6878aa5d",
   "metadata": {},
   "outputs": [
    {
     "data": {
      "text/plain": [
       "2891      3\n",
       "53042     3\n",
       "20353     2\n",
       "5527      2\n",
       "122002    2\n",
       "         ..\n",
       "71006     1\n",
       "76050     1\n",
       "64854     1\n",
       "2388      1\n",
       "72702     1\n",
       "Name: estimatePrice, Length: 462, dtype: int64"
      ]
     },
     "execution_count": 140,
     "metadata": {},
     "output_type": "execute_result"
    }
   ],
   "source": [
    "# estimatePrice\n",
    "df['estimatePrice'].value_counts()"
   ]
  },
  {
   "cell_type": "markdown",
   "id": "aa759f88",
   "metadata": {},
   "source": [
    "It's not clear what this feature means for now, bit let's keep it for the future analysis"
   ]
  },
  {
   "cell_type": "code",
   "execution_count": 141,
   "id": "89f5dfe6",
   "metadata": {},
   "outputs": [
    {
     "data": {
      "text/plain": [
       "2021-01-01    40\n",
       "2019-01-01    38\n",
       "2021-08-18    15\n",
       "2021-09-13    13\n",
       "2021-09-08    13\n",
       "              ..\n",
       "2021-07-05     1\n",
       "2021-10-19     1\n",
       "2021-07-21     1\n",
       "2021-12-02     1\n",
       "2020-01-02     1\n",
       "Name: estimateDate, Length: 119, dtype: int64"
      ]
     },
     "execution_count": 141,
     "metadata": {},
     "output_type": "execute_result"
    }
   ],
   "source": [
    "# estimateDate\n",
    "df['estimateDate'].value_counts()"
   ]
  },
  {
   "cell_type": "markdown",
   "id": "754c0273",
   "metadata": {},
   "source": [
    "As long as **estimateDate** feature has few some missing values, I suggest to remove the rows with these missing values"
   ]
  },
  {
   "cell_type": "code",
   "execution_count": 142,
   "id": "23430c97",
   "metadata": {},
   "outputs": [],
   "source": [
    "df = df[df['estimateDate'].notna()]"
   ]
  },
  {
   "cell_type": "code",
   "execution_count": 143,
   "id": "6ff1772a",
   "metadata": {},
   "outputs": [
    {
     "data": {
      "text/plain": [
       "(473, 36)"
      ]
     },
     "execution_count": 143,
     "metadata": {},
     "output_type": "execute_result"
    }
   ],
   "source": [
    "df.shape"
   ]
  },
  {
   "cell_type": "markdown",
   "id": "11ebf693",
   "metadata": {},
   "source": [
    "Now let's convert engineer some new features from this **estimateDate** feature. First let's extract month and day from this estimate feature"
   ]
  },
  {
   "cell_type": "code",
   "execution_count": 144,
   "id": "f31937e2",
   "metadata": {},
   "outputs": [],
   "source": [
    "df['estimateMonth'] = df['estimateDate'].apply(lambda x: int(x.split('-')[1]))"
   ]
  },
  {
   "cell_type": "code",
   "execution_count": 145,
   "id": "61a4fd2e",
   "metadata": {},
   "outputs": [
    {
     "data": {
      "text/plain": [
       "9     107\n",
       "1      85\n",
       "8      78\n",
       "7      53\n",
       "10     53\n",
       "11     47\n",
       "12     24\n",
       "2      11\n",
       "3       6\n",
       "4       6\n",
       "5       3\n",
       "Name: estimateMonth, dtype: int64"
      ]
     },
     "execution_count": 145,
     "metadata": {},
     "output_type": "execute_result"
    }
   ],
   "source": [
    "df['estimateMonth'].value_counts()"
   ]
  },
  {
   "cell_type": "code",
   "execution_count": 146,
   "id": "77690577",
   "metadata": {},
   "outputs": [],
   "source": [
    "df['estimateDay'] = df['estimateDate'].apply(lambda x: int(x.split('-')[2]))"
   ]
  },
  {
   "cell_type": "code",
   "execution_count": 147,
   "id": "6ce85b3a",
   "metadata": {},
   "outputs": [
    {
     "data": {
      "text/plain": [
       "1     94\n",
       "29    31\n",
       "20    28\n",
       "8     27\n",
       "30    22\n",
       "13    22\n",
       "18    19\n",
       "26    14\n",
       "3     14\n",
       "6     14\n",
       "28    13\n",
       "10    13\n",
       "22    13\n",
       "5     12\n",
       "19    12\n",
       "23    11\n",
       "17    11\n",
       "2     10\n",
       "27    10\n",
       "25     9\n",
       "16     9\n",
       "9      9\n",
       "21     7\n",
       "15     7\n",
       "24     7\n",
       "12     7\n",
       "11     7\n",
       "31     7\n",
       "4      6\n",
       "7      5\n",
       "14     3\n",
       "Name: estimateDay, dtype: int64"
      ]
     },
     "execution_count": 147,
     "metadata": {},
     "output_type": "execute_result"
    }
   ],
   "source": [
    "df['estimateDay'].value_counts()"
   ]
  },
  {
   "cell_type": "code",
   "execution_count": 148,
   "id": "46eead9b",
   "metadata": {},
   "outputs": [],
   "source": [
    "df['estimateYear'] = df['estimateDate'].apply(lambda x: int(x.split('-')[0]))"
   ]
  },
  {
   "cell_type": "code",
   "execution_count": 149,
   "id": "0ca5193e",
   "metadata": {},
   "outputs": [
    {
     "data": {
      "text/plain": [
       "2021    398\n",
       "2019     44\n",
       "2020     31\n",
       "Name: estimateYear, dtype: int64"
      ]
     },
     "execution_count": 149,
     "metadata": {},
     "output_type": "execute_result"
    }
   ],
   "source": [
    "df['estimateYear'].value_counts()"
   ]
  },
  {
   "cell_type": "markdown",
   "id": "1c8b194d",
   "metadata": {},
   "source": [
    "Now let's figure out the difference between the current date and the **estimateDate** in days. For this let's convert **estimateDate** feature into datetime format first"
   ]
  },
  {
   "cell_type": "code",
   "execution_count": 150,
   "id": "c8075100",
   "metadata": {},
   "outputs": [],
   "source": [
    "df['estimateDate'] = df['estimateDate'].apply(lambda x: datetime.datetime.strptime(x, '%Y-%m-%d'))"
   ]
  },
  {
   "cell_type": "code",
   "execution_count": 151,
   "id": "222be83d",
   "metadata": {},
   "outputs": [
    {
     "data": {
      "text/plain": [
       "int"
      ]
     },
     "execution_count": 151,
     "metadata": {},
     "output_type": "execute_result"
    }
   ],
   "source": [
    "type((datetime.datetime.now() - df['estimateDate'].iloc[0]).days)"
   ]
  },
  {
   "cell_type": "code",
   "execution_count": 152,
   "id": "003943d5",
   "metadata": {},
   "outputs": [],
   "source": [
    "df['daysDelta'] = df['estimateDate'].apply(lambda x: (datetime.datetime.now() - x).days)"
   ]
  },
  {
   "cell_type": "code",
   "execution_count": 153,
   "id": "f5cb3033",
   "metadata": {},
   "outputs": [
    {
     "data": {
      "text/plain": [
       "415     40\n",
       "1146    38\n",
       "186     15\n",
       "160     13\n",
       "165     13\n",
       "        ..\n",
       "685      1\n",
       "174      1\n",
       "689      1\n",
       "187      1\n",
       "1020     1\n",
       "Name: daysDelta, Length: 119, dtype: int64"
      ]
     },
     "execution_count": 153,
     "metadata": {},
     "output_type": "execute_result"
    }
   ],
   "source": [
    "df['daysDelta'].value_counts()"
   ]
  },
  {
   "cell_type": "markdown",
   "id": "b0d77a3b",
   "metadata": {},
   "source": [
    "Now we can safely remove **estimateDate** feature"
   ]
  },
  {
   "cell_type": "code",
   "execution_count": 154,
   "id": "c13ad152",
   "metadata": {},
   "outputs": [],
   "source": [
    "df.drop(['estimateDate'], axis = 1, inplace = True)"
   ]
  },
  {
   "cell_type": "markdown",
   "id": "58b97406",
   "metadata": {},
   "source": [
    "Now let's look at another feature which is representing the date - **lastRentPayDate**. With this feature let's do the same - extract the date, get a delta between the current date and the last rent pay date in days and remove the original feature"
   ]
  },
  {
   "cell_type": "code",
   "execution_count": 155,
   "id": "27a07bf0",
   "metadata": {},
   "outputs": [
    {
     "data": {
      "text/plain": [
       "2021-12-31    273\n",
       "2021-07-01     50\n",
       "2020-10-01     43\n",
       "2021-04-01     42\n",
       "2020-12-31     23\n",
       "2022-12-31     17\n",
       "2022-01-01      5\n",
       "2021-10-01      5\n",
       "2024-12-31      5\n",
       "2023-12-31      3\n",
       "2026-01-01      1\n",
       "2024-01-01      1\n",
       "2021-08-20      1\n",
       "2021-11-10      1\n",
       "2021-08-12      1\n",
       "2021-09-21      1\n",
       "2023-01-01      1\n",
       "Name: lastRentPayDate, dtype: int64"
      ]
     },
     "execution_count": 155,
     "metadata": {},
     "output_type": "execute_result"
    }
   ],
   "source": [
    "df['lastRentPayDate'].value_counts()"
   ]
  },
  {
   "cell_type": "code",
   "execution_count": 156,
   "id": "44fbb777",
   "metadata": {},
   "outputs": [],
   "source": [
    "df['lastRentPayDate'] = df['lastRentPayDate'].apply(lambda x: datetime.datetime.strptime(x, '%Y-%m-%d'))"
   ]
  },
  {
   "cell_type": "code",
   "execution_count": 157,
   "id": "4798b14c",
   "metadata": {},
   "outputs": [],
   "source": [
    "df['daysRentPayDelta'] = df['lastRentPayDate'].apply(lambda x: (x - datetime.datetime.now()).days)"
   ]
  },
  {
   "cell_type": "code",
   "execution_count": 158,
   "id": "3d9886f4",
   "metadata": {},
   "outputs": [
    {
     "data": {
      "text/plain": [
       "-52      273\n",
       "-235      50\n",
       "-508      43\n",
       "-326      42\n",
       "-417      23\n",
       " 313      17\n",
       "-51        5\n",
       " 1044      5\n",
       "-143       5\n",
       " 678       3\n",
       " 679       1\n",
       "-193       1\n",
       "-153       1\n",
       " 314       1\n",
       " 1410      1\n",
       "-103       1\n",
       "-185       1\n",
       "Name: daysRentPayDelta, dtype: int64"
      ]
     },
     "execution_count": 158,
     "metadata": {},
     "output_type": "execute_result"
    }
   ],
   "source": [
    "df['daysRentPayDelta'].value_counts()"
   ]
  },
  {
   "cell_type": "markdown",
   "id": "4b00164f",
   "metadata": {},
   "source": [
    "It looks like we can add another binary feature based on the previous generated **daysRentPayDelta** feature. If it has a positive sign, let it be 1, ottherwise, let it be 0."
   ]
  },
  {
   "cell_type": "code",
   "execution_count": 159,
   "id": "afec47e0",
   "metadata": {},
   "outputs": [],
   "source": [
    "df['daysRentPayDeltaSign'] = df['daysRentPayDelta'].apply(lambda x: 1 if x > 0 else 0)"
   ]
  },
  {
   "cell_type": "code",
   "execution_count": 160,
   "id": "2bedc447",
   "metadata": {},
   "outputs": [
    {
     "data": {
      "text/plain": [
       "0    445\n",
       "1     28\n",
       "Name: daysRentPayDeltaSign, dtype: int64"
      ]
     },
     "execution_count": 160,
     "metadata": {},
     "output_type": "execute_result"
    }
   ],
   "source": [
    "df['daysRentPayDeltaSign'].value_counts()"
   ]
  },
  {
   "cell_type": "code",
   "execution_count": 161,
   "id": "d1f59ce0",
   "metadata": {},
   "outputs": [],
   "source": [
    "df.drop(['lastRentPayDate'], axis = 1, inplace = True)"
   ]
  },
  {
   "cell_type": "code",
   "execution_count": 162,
   "id": "b7a0acc8",
   "metadata": {},
   "outputs": [
    {
     "data": {
      "text/plain": [
       "(473, 40)"
      ]
     },
     "execution_count": 162,
     "metadata": {},
     "output_type": "execute_result"
    }
   ],
   "source": [
    "df.shape"
   ]
  },
  {
   "cell_type": "code",
   "execution_count": 163,
   "id": "055cea5f",
   "metadata": {},
   "outputs": [
    {
     "data": {
      "text/plain": [
       "19893    22\n",
       "7214      9\n",
       "15783     6\n",
       "6892      5\n",
       "8187      5\n",
       "         ..\n",
       "60        1\n",
       "22719     1\n",
       "7825      1\n",
       "195       1\n",
       "27646     1\n",
       "Name: rentRate, Length: 310, dtype: int64"
      ]
     },
     "execution_count": 163,
     "metadata": {},
     "output_type": "execute_result"
    }
   ],
   "source": [
    "# rentRate\n",
    "df['rentRate'].value_counts()"
   ]
  },
  {
   "cell_type": "markdown",
   "id": "24a0f625",
   "metadata": {},
   "source": [
    "I'm not sure what this feature is about, but let's keep it for now"
   ]
  },
  {
   "cell_type": "code",
   "execution_count": 164,
   "id": "d37e09c6",
   "metadata": {},
   "outputs": [
    {
     "data": {
      "text/plain": [
       "19893    22\n",
       "7214      9\n",
       "15783     6\n",
       "6892      5\n",
       "8187      5\n",
       "         ..\n",
       "60        1\n",
       "22719     1\n",
       "7825      1\n",
       "195       1\n",
       "27646     1\n",
       "Name: baseRentRate, Length: 310, dtype: int64"
      ]
     },
     "execution_count": 164,
     "metadata": {},
     "output_type": "execute_result"
    }
   ],
   "source": [
    "# baseRentRate\n",
    "df['baseRentRate'].value_counts()"
   ]
  },
  {
   "cell_type": "markdown",
   "id": "3a5b9eea",
   "metadata": {},
   "source": [
    "It seems that the features **rentRate** and **baseRentRate** have similar values, so let's get rid from the last one"
   ]
  },
  {
   "cell_type": "code",
   "execution_count": 165,
   "id": "2e07a35f",
   "metadata": {},
   "outputs": [],
   "source": [
    "df.drop(['baseRentRate'], axis = 1, inplace = True)"
   ]
  },
  {
   "cell_type": "code",
   "execution_count": 166,
   "id": "cc6310c0",
   "metadata": {},
   "outputs": [
    {
     "data": {
      "text/plain": [
       "16014    22\n",
       "5807      9\n",
       "12705     6\n",
       "18051     6\n",
       "2474      5\n",
       "         ..\n",
       "3772      1\n",
       "4797      1\n",
       "13503     1\n",
       "192       1\n",
       "3069      1\n",
       "Name: rentRateClean, Length: 307, dtype: int64"
      ]
     },
     "execution_count": 166,
     "metadata": {},
     "output_type": "execute_result"
    }
   ],
   "source": [
    "# rentRateClean\n",
    "df['rentRateClean'].value_counts()"
   ]
  },
  {
   "cell_type": "code",
   "execution_count": 167,
   "id": "e94e61b4",
   "metadata": {},
   "outputs": [
    {
     "data": {
      "text/plain": [
       "16014    22\n",
       "5807      9\n",
       "12705     6\n",
       "18051     6\n",
       "2474      5\n",
       "         ..\n",
       "3772      1\n",
       "4797      1\n",
       "13503     1\n",
       "192       1\n",
       "3069      1\n",
       "Name: baseRentRateClean, Length: 307, dtype: int64"
      ]
     },
     "execution_count": 167,
     "metadata": {},
     "output_type": "execute_result"
    }
   ],
   "source": [
    "# baseRentRateClean\n",
    "df['baseRentRateClean'].value_counts()"
   ]
  },
  {
   "cell_type": "markdown",
   "id": "ddd7d6e9",
   "metadata": {},
   "source": [
    "Again, let's remove the redundunt feature"
   ]
  },
  {
   "cell_type": "code",
   "execution_count": 168,
   "id": "7f9a65a7",
   "metadata": {},
   "outputs": [],
   "source": [
    "df.drop(['baseRentRateClean'], axis = 1, inplace = True)"
   ]
  },
  {
   "cell_type": "markdown",
   "id": "02bfcde2",
   "metadata": {},
   "source": [
    "It also looks lie features **rentRateClean** and **rentRate** may have a big positive correlation. Let's check it"
   ]
  },
  {
   "cell_type": "code",
   "execution_count": 169,
   "id": "d1301dda",
   "metadata": {},
   "outputs": [
    {
     "data": {
      "text/plain": [
       "0.9999999990297495"
      ]
     },
     "execution_count": 169,
     "metadata": {},
     "output_type": "execute_result"
    }
   ],
   "source": [
    "df['rentRate'].corr(df['rentRateClean'])"
   ]
  },
  {
   "cell_type": "markdown",
   "id": "f45867f3",
   "metadata": {},
   "source": [
    "As you can see the correlation between these two features are close to 1, so we can definitely remove one of them"
   ]
  },
  {
   "cell_type": "code",
   "execution_count": 170,
   "id": "4ebc5ae2",
   "metadata": {},
   "outputs": [],
   "source": [
    "df.drop(['rentRateClean'], axis = 1, inplace = True)"
   ]
  },
  {
   "cell_type": "code",
   "execution_count": 171,
   "id": "da4f18a1",
   "metadata": {},
   "outputs": [
    {
     "data": {
      "text/plain": [
       "3.8     19\n",
       "3.6     17\n",
       "4.8     15\n",
       "4.2     15\n",
       "5.3     13\n",
       "        ..\n",
       "1.4      1\n",
       "1.5      1\n",
       "10.2     1\n",
       "8.0      1\n",
       "7.4      1\n",
       "Name: rentalYield, Length: 89, dtype: int64"
      ]
     },
     "execution_count": 171,
     "metadata": {},
     "output_type": "execute_result"
    }
   ],
   "source": [
    "#rentalYield\n",
    "df['rentalYield'].value_counts()"
   ]
  },
  {
   "cell_type": "markdown",
   "id": "cb3d2a04",
   "metadata": {},
   "source": [
    "It looks like this **rentalYield** feature may have some outliers, let's firgure it out. Let's check this assumption with the graph"
   ]
  },
  {
   "cell_type": "code",
   "execution_count": 172,
   "id": "375cd991",
   "metadata": {},
   "outputs": [
    {
     "data": {
      "text/plain": [
       "<AxesSubplot:xlabel='rentalYield'>"
      ]
     },
     "execution_count": 172,
     "metadata": {},
     "output_type": "execute_result"
    },
    {
     "data": {
      "image/png": "[encoded data removed]",
      "text/plain": [
       "<Figure size 432x288 with 1 Axes>"
      ]
     },
     "metadata": {
      "needs_background": "light"
     },
     "output_type": "display_data"
    }
   ],
   "source": [
    "sns.boxplot(x = df['rentalYield'])"
   ]
  },
  {
   "cell_type": "markdown",
   "id": "8851639b",
   "metadata": {},
   "source": [
    "The assumption about outliers has been confirmed. Let's define the exact values of the outliers end get rid of them"
   ]
  },
  {
   "cell_type": "code",
   "execution_count": 173,
   "id": "b38e0320",
   "metadata": {},
   "outputs": [
    {
     "name": "stdout",
     "output_type": "stream",
     "text": [
      "Number of outliers are 4\n",
      "The outliers are [10.2, 9.9, 14.0, 9.7]\n",
      "Upper limit is 9.2\n",
      "Lower limit is -0.399999999999999\n"
     ]
    }
   ],
   "source": [
    "detect_outliers(df['rentalYield'])"
   ]
  },
  {
   "cell_type": "markdown",
   "id": "49ec82c8",
   "metadata": {},
   "source": [
    "As long as there are not too many outliers in the **rentalYield** feature, we can get rid of the rows that contain these outliers"
   ]
  },
  {
   "cell_type": "code",
   "execution_count": 174,
   "id": "01d0533f",
   "metadata": {},
   "outputs": [
    {
     "data": {
      "text/plain": [
       "(473, 37)"
      ]
     },
     "execution_count": 174,
     "metadata": {},
     "output_type": "execute_result"
    }
   ],
   "source": [
    "df.shape"
   ]
  },
  {
   "cell_type": "code",
   "execution_count": 175,
   "id": "6053a964",
   "metadata": {},
   "outputs": [
    {
     "name": "stdout",
     "output_type": "stream",
     "text": [
      "The number of rows before removing outliers is  473\n",
      "The number of rows after removing outliers is  469\n"
     ]
    }
   ],
   "source": [
    "df = remove_outliers(df, 'rentalYield')"
   ]
  },
  {
   "cell_type": "code",
   "execution_count": 176,
   "id": "e4b834ee",
   "metadata": {},
   "outputs": [
    {
     "data": {
      "text/plain": [
       "(469, 37)"
      ]
     },
     "execution_count": 176,
     "metadata": {},
     "output_type": "execute_result"
    }
   ],
   "source": [
    "df.shape"
   ]
  },
  {
   "cell_type": "code",
   "execution_count": 177,
   "id": "4d687ed1",
   "metadata": {},
   "outputs": [
    {
     "data": {
      "text/plain": [
       "9.1"
      ]
     },
     "execution_count": 177,
     "metadata": {},
     "output_type": "execute_result"
    }
   ],
   "source": [
    "max(df['rentalYield'])"
   ]
  },
  {
   "cell_type": "code",
   "execution_count": 178,
   "id": "625ff67b",
   "metadata": {},
   "outputs": [
    {
     "data": {
      "text/plain": [
       "0.2"
      ]
     },
     "execution_count": 178,
     "metadata": {},
     "output_type": "execute_result"
    }
   ],
   "source": [
    "min(df['rentalYield'])"
   ]
  },
  {
   "cell_type": "code",
   "execution_count": 179,
   "id": "a96eacb1",
   "metadata": {},
   "outputs": [
    {
     "data": {
      "text/plain": [
       "3.8    19\n",
       "3.6    17\n",
       "4.2    15\n",
       "4.8    15\n",
       "5.3    13\n",
       "       ..\n",
       "8.0     1\n",
       "8.2     1\n",
       "1.3     1\n",
       "7.7     1\n",
       "8.9     1\n",
       "Name: rentalYield, Length: 85, dtype: int64"
      ]
     },
     "execution_count": 179,
     "metadata": {},
     "output_type": "execute_result"
    }
   ],
   "source": [
    "df['rentalYield'].value_counts()"
   ]
  },
  {
   "cell_type": "code",
   "execution_count": 180,
   "id": "36c19dc9",
   "metadata": {},
   "outputs": [
    {
     "data": {
      "text/plain": [
       "15    468\n",
       "1       1\n",
       "Name: rentPeriod, dtype: int64"
      ]
     },
     "execution_count": 180,
     "metadata": {},
     "output_type": "execute_result"
    }
   ],
   "source": [
    "#rentPeriod\n",
    "df['rentPeriod'].value_counts()"
   ]
  },
  {
   "cell_type": "markdown",
   "id": "ab6e3173",
   "metadata": {},
   "source": [
    "The feature **rentPeriod** has no variability, so we can get rid of it"
   ]
  },
  {
   "cell_type": "code",
   "execution_count": 181,
   "id": "3b0ff88c",
   "metadata": {},
   "outputs": [],
   "source": [
    "df.drop(['rentPeriod'], axis = 1, inplace = True)"
   ]
  },
  {
   "cell_type": "code",
   "execution_count": 182,
   "id": "dc55b8c9",
   "metadata": {},
   "outputs": [
    {
     "data": {
      "text/plain": [
       "2.0000    13\n",
       "1.0000     3\n",
       "1.5000     3\n",
       "0.4366     3\n",
       "1.5045     2\n",
       "          ..\n",
       "3.7139     1\n",
       "0.7085     1\n",
       "0.2420     1\n",
       "6.1329     1\n",
       "3.8181     1\n",
       "Name: area, Length: 440, dtype: int64"
      ]
     },
     "execution_count": 182,
     "metadata": {},
     "output_type": "execute_result"
    }
   ],
   "source": [
    "#area\n",
    "df['area'].value_counts()"
   ]
  },
  {
   "cell_type": "markdown",
   "id": "c4134ac0",
   "metadata": {},
   "source": [
    "Let's check the feature **area** for outliers"
   ]
  },
  {
   "cell_type": "code",
   "execution_count": 183,
   "id": "9ba0b50f",
   "metadata": {},
   "outputs": [
    {
     "data": {
      "text/plain": [
       "<AxesSubplot:xlabel='area'>"
      ]
     },
     "execution_count": 183,
     "metadata": {},
     "output_type": "execute_result"
    },
    {
     "data": {
      "image/png": "[encoded data removed]",
      "text/plain": [
       "<Figure size 432x288 with 1 Axes>"
      ]
     },
     "metadata": {
      "needs_background": "light"
     },
     "output_type": "display_data"
    }
   ],
   "source": [
    "sns.boxplot(x = df['area'])"
   ]
  },
  {
   "cell_type": "markdown",
   "id": "3a9e2fa7",
   "metadata": {},
   "source": [
    "As we can see there are possibly a lot of outliers, let's calculate number and values"
   ]
  },
  {
   "cell_type": "code",
   "execution_count": 184,
   "id": "8593f767",
   "metadata": {},
   "outputs": [
    {
     "name": "stdout",
     "output_type": "stream",
     "text": [
      "Number of outliers are 28\n",
      "The outliers are [11.0799, 11.9532, 12.0078, 11.8356, 11.8355, 11.8638, 12.1274, 12.0482, 10.4194, 11.1498, 24.2772, 10.8946, 10.5002, 11.2863, 12.8, 11.8356, 12.3256, 12.548, 12.4001, 10.3972, 11.8357, 11.8354, 11.8358, 10.9562, 11.4803, 11.8353, 11.4395, 12.6665]\n",
      "Upper limit is 10.3806\n",
      "Lower limit is -3.3818\n"
     ]
    }
   ],
   "source": [
    "detect_outliers(df['area'])"
   ]
  },
  {
   "cell_type": "markdown",
   "id": "c08e3ce3",
   "metadata": {},
   "source": [
    "This is a big amount of outliers for some a small dataset, so it is not beneficial to remove the rows. Let's try to apply other methods, for instance Winsorize Method"
   ]
  },
  {
   "cell_type": "markdown",
   "id": "929e2252",
   "metadata": {},
   "source": [
    "Let's look at the data distribution for **area** feature"
   ]
  },
  {
   "cell_type": "code",
   "execution_count": 185,
   "id": "56de49b4",
   "metadata": {},
   "outputs": [
    {
     "name": "stderr",
     "output_type": "stream",
     "text": [
      "C:\\Users\\asolo\\Anaconda3\\lib\\site-packages\\seaborn\\distributions.py:2557: FutureWarning: `distplot` is a deprecated function and will be removed in a future version. Please adapt your code to use either `displot` (a figure-level function with similar flexibility) or `histplot` (an axes-level function for histograms).\n",
      "  warnings.warn(msg, FutureWarning)\n"
     ]
    },
    {
     "data": {
      "text/plain": [
       "<AxesSubplot:xlabel='area'>"
      ]
     },
     "execution_count": 185,
     "metadata": {},
     "output_type": "execute_result"
    },
    {
     "data": {
      "image/png": "[encoded data removed]",
      "text/plain": [
       "<Figure size 432x288 with 1 Axes>"
      ]
     },
     "metadata": {
      "needs_background": "light"
     },
     "output_type": "display_data"
    }
   ],
   "source": [
    "sns.distplot(df['area'], bins=10, kde = False)"
   ]
  },
  {
   "cell_type": "markdown",
   "id": "7b65d3f3",
   "metadata": {},
   "source": [
    "We can see that the distribution is right skewed. Let's see how the data of the **area** feature will look like when we apply log transformation."
   ]
  },
  {
   "cell_type": "code",
   "execution_count": 186,
   "id": "67066502",
   "metadata": {},
   "outputs": [
    {
     "name": "stdout",
     "output_type": "stream",
     "text": [
      "Number of outliers are 21\n",
      "The outliers are [-1.3420861064555702, -1.8483298207164494, -1.4562877329404256, -1.1338250444238542, -1.1239300966523995, -1.2672676546982498, -1.4188175528254507, -1.0498221244986778, -1.4477443234361131, -1.283016011666389, -1.2761851384398606, -1.7037485919053417, -2.0794415416798357, -2.069887328875024, -1.3371233171134413, -1.7142430268002267, -2.3382122706371966, -1.2468803053372126, -1.2201021862558195, -2.0898959995836948, -1.067986095126349]\n",
      "Upper limit is 3.2669383947587187\n",
      "Lower limit is -1.038390847321483\n"
     ]
    }
   ],
   "source": [
    "detect_outliers(np.log(df['area']))"
   ]
  },
  {
   "cell_type": "code",
   "execution_count": 187,
   "id": "c5fd4a31",
   "metadata": {},
   "outputs": [
    {
     "data": {
      "text/plain": [
       "<AxesSubplot:xlabel='area'>"
      ]
     },
     "execution_count": 187,
     "metadata": {},
     "output_type": "execute_result"
    },
    {
     "data": {
      "image/png": "[encoded data removed]",
      "text/plain": [
       "<Figure size 432x288 with 1 Axes>"
      ]
     },
     "metadata": {
      "needs_background": "light"
     },
     "output_type": "display_data"
    }
   ],
   "source": [
    "sns.distplot(np.log(df['area']), bins=10, kde = False)"
   ]
  },
  {
   "cell_type": "markdown",
   "id": "21ba6e9f",
   "metadata": {},
   "source": [
    "Unfortunately, it seems like Log Transformation doesn't help much to get rid of the outliers. So, let's try to use another approach Winsorize method"
   ]
  },
  {
   "cell_type": "code",
   "execution_count": 188,
   "id": "70300ddd",
   "metadata": {},
   "outputs": [
    {
     "data": {
      "text/plain": [
       "count    469.000000\n",
       "mean       3.828499\n",
       "std        3.260208\n",
       "min        0.096500\n",
       "25%        1.779100\n",
       "50%        2.733400\n",
       "75%        5.219700\n",
       "max       24.277200\n",
       "Name: area, dtype: float64"
      ]
     },
     "execution_count": 188,
     "metadata": {},
     "output_type": "execute_result"
    }
   ],
   "source": [
    "df['area'].describe()"
   ]
  },
  {
   "cell_type": "code",
   "execution_count": 189,
   "id": "d1816f3c",
   "metadata": {},
   "outputs": [],
   "source": [
    "df['area_win'] = winsorize(df['area'], (0.01, 0.06))"
   ]
  },
  {
   "cell_type": "code",
   "execution_count": 190,
   "id": "20808b03",
   "metadata": {},
   "outputs": [
    {
     "data": {
      "text/plain": [
       "<AxesSubplot:xlabel='area_win'>"
      ]
     },
     "execution_count": 190,
     "metadata": {},
     "output_type": "execute_result"
    },
    {
     "data": {
      "image/png": "[encoded data removed]",
      "text/plain": [
       "<Figure size 432x288 with 1 Axes>"
      ]
     },
     "metadata": {
      "needs_background": "light"
     },
     "output_type": "display_data"
    }
   ],
   "source": [
    "sns.boxplot(x = df['area_win'])"
   ]
  },
  {
   "cell_type": "code",
   "execution_count": 191,
   "id": "4e1e29f2",
   "metadata": {},
   "outputs": [
    {
     "data": {
      "text/plain": [
       "count    469.000000\n",
       "mean       3.828499\n",
       "std        3.260208\n",
       "min        0.096500\n",
       "25%        1.779100\n",
       "50%        2.733400\n",
       "75%        5.219700\n",
       "max       24.277200\n",
       "Name: area, dtype: float64"
      ]
     },
     "execution_count": 191,
     "metadata": {},
     "output_type": "execute_result"
    }
   ],
   "source": [
    "df['area'].describe()"
   ]
  },
  {
   "cell_type": "code",
   "execution_count": 192,
   "id": "1befe7e4",
   "metadata": {},
   "outputs": [
    {
     "data": {
      "text/plain": [
       "count    469.000000\n",
       "mean       3.718513\n",
       "std        2.938183\n",
       "min        0.157500\n",
       "25%        1.779100\n",
       "50%        2.733400\n",
       "75%        5.219700\n",
       "max       10.276000\n",
       "Name: area_win, dtype: float64"
      ]
     },
     "execution_count": 192,
     "metadata": {},
     "output_type": "execute_result"
    }
   ],
   "source": [
    "df['area_win'].describe()"
   ]
  },
  {
   "cell_type": "code",
   "execution_count": 193,
   "id": "e9e52247",
   "metadata": {},
   "outputs": [
    {
     "name": "stderr",
     "output_type": "stream",
     "text": [
      "C:\\Users\\asolo\\Anaconda3\\lib\\site-packages\\seaborn\\distributions.py:2557: FutureWarning: `distplot` is a deprecated function and will be removed in a future version. Please adapt your code to use either `displot` (a figure-level function with similar flexibility) or `histplot` (an axes-level function for histograms).\n",
      "  warnings.warn(msg, FutureWarning)\n"
     ]
    },
    {
     "data": {
      "text/plain": [
       "<AxesSubplot:xlabel='area_win', ylabel='Density'>"
      ]
     },
     "execution_count": 193,
     "metadata": {},
     "output_type": "execute_result"
    },
    {
     "data": {
      "image/png": "[encoded data removed]",
      "text/plain": [
       "<Figure size 432x288 with 1 Axes>"
      ]
     },
     "metadata": {
      "needs_background": "light"
     },
     "output_type": "display_data"
    }
   ],
   "source": [
    "sns.distplot(df['area_win'])"
   ]
  },
  {
   "cell_type": "markdown",
   "id": "18ccd73c",
   "metadata": {},
   "source": [
    "As we can see Winsorize method didn't impact the descriptive statistics much, which is good. However, the distribution after the transformation still remains right skewed. So, probably it makes sense to apply Log Transformation to this new feature later"
   ]
  },
  {
   "cell_type": "markdown",
   "id": "0b2cecb8",
   "metadata": {},
   "source": [
    "Now we can remove **area** feature"
   ]
  },
  {
   "cell_type": "code",
   "execution_count": 194,
   "id": "751d0b97",
   "metadata": {},
   "outputs": [],
   "source": [
    "df.drop(['area'], axis = 1, inplace = True)"
   ]
  },
  {
   "cell_type": "code",
   "execution_count": 195,
   "id": "c3398eb4",
   "metadata": {},
   "outputs": [
    {
     "data": {
      "text/plain": [
       "01.01 Для ведення товарного сільськогосподарського виробництва     377\n",
       "01.03 Для ведення особистого селянського господарства               48\n",
       "Для ведення товарного сільськогосподарського виробництва            19\n",
       "ведення товарного сільськогосподарського виробництва                13\n",
       "01.01                                                                3\n",
       "01.01 для ведення товарного сільськогосподарського виробництва       3\n",
       "01.01. Для ведення товарного сільськогосподарського виробництва      2\n",
       "для ведення товарного сільськогосподарського виробництва             2\n",
       "01.03 для ведення особистого селянського господарства                1\n",
       "01.04 Для ведення підсобного сільського господарства                 1\n",
       "Name: purpose, dtype: int64"
      ]
     },
     "execution_count": 195,
     "metadata": {},
     "output_type": "execute_result"
    }
   ],
   "source": [
    "#purpose\n",
    "df['purpose'].value_counts()"
   ]
  },
  {
   "cell_type": "markdown",
   "id": "5041b545",
   "metadata": {},
   "source": [
    "As we can see there are mainly two values in the **purpose** feature, but they may be written in different ways. Let's convert different variants of the same values to a common standard"
   ]
  },
  {
   "cell_type": "code",
   "execution_count": 196,
   "id": "c20939ea",
   "metadata": {},
   "outputs": [],
   "source": [
    "df['purpose'] = df['purpose'].apply(lambda x: 1 if ('01.01' in x or 'товарного' in x) else 0)"
   ]
  },
  {
   "cell_type": "code",
   "execution_count": 197,
   "id": "94f8bd7e",
   "metadata": {},
   "outputs": [
    {
     "data": {
      "text/plain": [
       "1    419\n",
       "0     50\n",
       "Name: purpose, dtype: int64"
      ]
     },
     "execution_count": 197,
     "metadata": {},
     "output_type": "execute_result"
    }
   ],
   "source": [
    "#purpose\n",
    "df['purpose'].value_counts()"
   ]
  },
  {
   "cell_type": "code",
   "execution_count": 198,
   "id": "c9b1309f",
   "metadata": {},
   "outputs": [
    {
     "data": {
      "text/plain": [
       "Приватна власність    469\n",
       "Name: ownership, dtype: int64"
      ]
     },
     "execution_count": 198,
     "metadata": {},
     "output_type": "execute_result"
    }
   ],
   "source": [
    "#ownership\n",
    "df['ownership'].value_counts()"
   ]
  },
  {
   "cell_type": "markdown",
   "id": "cb2a208d",
   "metadata": {},
   "source": [
    "Let's remove **ownership** feature as long as it doens't have variability"
   ]
  },
  {
   "cell_type": "code",
   "execution_count": 199,
   "id": "f75cf097",
   "metadata": {},
   "outputs": [],
   "source": [
    "df.drop(['ownership'], axis = 1, inplace = True)"
   ]
  },
  {
   "cell_type": "code",
   "execution_count": 200,
   "id": "5ec369b0",
   "metadata": {},
   "outputs": [
    {
     "data": {
      "text/plain": [
       "Щасливе, Ювілейна, Херсонський, Херсонська, Україна             39\n",
       "Роменська, Роменський, Сумська, Україна                         28\n",
       "Тягинська, Бериславський, Херсонська, Україна                   24\n",
       "Новорайська, Бериславський, Херсонська, Україна                 16\n",
       "Тростянецька, Охтирський, Сумська, Україна                      15\n",
       "                                                                ..\n",
       "Глобинська, Кременчуцький, Полтавська, Україна                   1\n",
       "Адампіль, Старосинявська, Хмельницький, Хмельницька, Україна     1\n",
       "Калинівська, Бериславський, Херсонська, Україна                  1\n",
       "Чигиринська, Черкаський, Черкаська, Україна                      1\n",
       "Скадовка, Чаплинська, Каховський, Херсонська, Україна            1\n",
       "Name: koatuuLocation, Length: 99, dtype: int64"
      ]
     },
     "execution_count": 200,
     "metadata": {},
     "output_type": "execute_result"
    }
   ],
   "source": [
    "#koatuuLocation\n",
    "df['koatuuLocation'].value_counts()"
   ]
  },
  {
   "cell_type": "markdown",
   "id": "881c4bb9",
   "metadata": {},
   "source": [
    "It looks like the feature **koatuuLocation** had some missing values in the original dataset. Let's check if it still has them after previous pre-processing"
   ]
  },
  {
   "cell_type": "code",
   "execution_count": 201,
   "id": "a0b74572",
   "metadata": {},
   "outputs": [
    {
     "data": {
      "text/plain": [
       "4"
      ]
     },
     "execution_count": 201,
     "metadata": {},
     "output_type": "execute_result"
    }
   ],
   "source": [
    "df['koatuuLocation'].isnull().sum()"
   ]
  },
  {
   "cell_type": "markdown",
   "id": "94410bdf",
   "metadata": {},
   "source": [
    "Well, as long as this feature has few missing values let's remove the rows with these missing values"
   ]
  },
  {
   "cell_type": "code",
   "execution_count": 202,
   "id": "2a2bf22d",
   "metadata": {},
   "outputs": [],
   "source": [
    "df = df[df['koatuuLocation'].notna()]"
   ]
  },
  {
   "cell_type": "code",
   "execution_count": 203,
   "id": "5da1b41d",
   "metadata": {},
   "outputs": [
    {
     "data": {
      "text/plain": [
       "0"
      ]
     },
     "execution_count": 203,
     "metadata": {},
     "output_type": "execute_result"
    }
   ],
   "source": [
    "df['koatuuLocation'].isnull().sum()"
   ]
  },
  {
   "cell_type": "code",
   "execution_count": 204,
   "id": "08a03fbb",
   "metadata": {},
   "outputs": [
    {
     "data": {
      "text/plain": [
       "[1, 22, 151, 1717, 27432]    39\n",
       "[1, 19, 134, 1529]           28\n",
       "[1, 22, 147, 1679]           24\n",
       "[1, 22, 147, 1678]           16\n",
       "[1, 19, 133, 1521]           15\n",
       "                             ..\n",
       "[1, 3, 44, 541]               1\n",
       "[1, 22, 147, 1673]            1\n",
       "[1, 18, 130, 1481]            1\n",
       "[1, 19, 133, 1522, 22910]     1\n",
       "[1, 15, 115, 1274]            1\n",
       "Name: geoPath, Length: 99, dtype: int64"
      ]
     },
     "execution_count": 204,
     "metadata": {},
     "output_type": "execute_result"
    }
   ],
   "source": [
    "#geoPath\n",
    "df['geoPath'].value_counts()"
   ]
  },
  {
   "cell_type": "markdown",
   "id": "9e155ebf",
   "metadata": {},
   "source": [
    "According to the distribution of the values it becomes obvious that the feature **geoPath** is the same as the previos feature **koatuuLocation** displayed in different form. I believe we can remove it"
   ]
  },
  {
   "cell_type": "code",
   "execution_count": 205,
   "id": "c6e1e118",
   "metadata": {},
   "outputs": [],
   "source": [
    "df.drop(['geoPath'], axis = 1, inplace = True)"
   ]
  },
  {
   "cell_type": "code",
   "execution_count": 206,
   "id": "066a1ba7",
   "metadata": {},
   "outputs": [
    {
     "data": {
      "text/plain": [
       "SRID=4326;POINT (50.69054490955153 33.37732208667056)    1\n",
       "SRID=4326;POINT (50.61222514702568 33.52473294267352)    1\n",
       "SRID=4326;POINT (49.55453016088852 36.06473278742061)    1\n",
       "SRID=4326;POINT (50.72965787551479 33.41378329859334)    1\n",
       "SRID=4326;POINT (50.63996915919979 33.49371109866767)    1\n",
       "                                                        ..\n",
       "SRID=4326;POINT (46.98708327708566 33.32057385143921)    1\n",
       "SRID=4326;POINT (46.46315328199238 33.2414374593622)     1\n",
       "SRID=4326;POINT (48.02051754977626 35.09291503931124)    1\n",
       "SRID=4326;POINT (46.86819781145947 33.23361525107096)    1\n",
       "SRID=4326;POINT (46.64872667630685 33.96451040869502)    1\n",
       "Name: geoLocation, Length: 465, dtype: int64"
      ]
     },
     "execution_count": 206,
     "metadata": {},
     "output_type": "execute_result"
    }
   ],
   "source": [
    "#geoLocation\n",
    "df['geoLocation'].value_counts()"
   ]
  },
  {
   "cell_type": "code",
   "execution_count": 207,
   "id": "4d6d980a",
   "metadata": {},
   "outputs": [
    {
     "data": {
      "text/plain": [
       "465"
      ]
     },
     "execution_count": 207,
     "metadata": {},
     "output_type": "execute_result"
    }
   ],
   "source": [
    "df['geoLocation'].nunique()"
   ]
  },
  {
   "cell_type": "markdown",
   "id": "d15d6e9e",
   "metadata": {},
   "source": [
    "As long as all the values of the **geoLocation** feature are unique, it doesn't make sense to keep this feature for the further analysis. Let's remove it"
   ]
  },
  {
   "cell_type": "code",
   "execution_count": 208,
   "id": "a2c6393c",
   "metadata": {},
   "outputs": [],
   "source": [
    "df.drop(['geoLocation'], axis = 1, inplace = True)"
   ]
  },
  {
   "cell_type": "code",
   "execution_count": 209,
   "id": "403ae75d",
   "metadata": {},
   "outputs": [
    {
     "data": {
      "text/plain": [
       "[46.84015224843165, 31.481088705434278]    1\n",
       "[46.495263399526415, 33.27388659424163]    1\n",
       "[49.69439042782902, 39.32845092949787]     1\n",
       "[49.15637241400208, 32.475556734346334]    1\n",
       "[47.019422943646504, 33.40817859036]       1\n",
       "                                          ..\n",
       "[50.98133733534587, 29.917473526257876]    1\n",
       "[50.15642204270612, 34.92256829626384]     1\n",
       "[46.83708269385274, 31.542234579583315]    1\n",
       "[50.39530387361414, 34.251503834135754]    1\n",
       "[46.651314252114446, 33.92236215258888]    1\n",
       "Name: geoCoordinates, Length: 465, dtype: int64"
      ]
     },
     "execution_count": 209,
     "metadata": {},
     "output_type": "execute_result"
    }
   ],
   "source": [
    "#geoCoordinates\n",
    "df['geoCoordinates'].value_counts()"
   ]
  },
  {
   "cell_type": "code",
   "execution_count": 210,
   "id": "b76e803c",
   "metadata": {},
   "outputs": [
    {
     "data": {
      "text/plain": [
       "465"
      ]
     },
     "execution_count": 210,
     "metadata": {},
     "output_type": "execute_result"
    }
   ],
   "source": [
    "df['geoCoordinates'].nunique()"
   ]
  },
  {
   "cell_type": "markdown",
   "id": "65b37ca7",
   "metadata": {},
   "source": [
    "Similarly, the feature **geoCoordinates** contains all unique values. So, we can remove it too."
   ]
  },
  {
   "cell_type": "code",
   "execution_count": 211,
   "id": "a83500dd",
   "metadata": {},
   "outputs": [],
   "source": [
    "df.drop(['geoCoordinates'], axis = 1, inplace = True)"
   ]
  },
  {
   "cell_type": "code",
   "execution_count": 212,
   "id": "96f6837b",
   "metadata": {},
   "outputs": [
    {
     "data": {
      "text/plain": [
       "1    465\n",
       "Name: ownerType, dtype: int64"
      ]
     },
     "execution_count": 212,
     "metadata": {},
     "output_type": "execute_result"
    }
   ],
   "source": [
    "#ownerType\n",
    "df['ownerType'].value_counts()"
   ]
  },
  {
   "cell_type": "markdown",
   "id": "5828aaa1",
   "metadata": {},
   "source": [
    "The feature has no variability, so let's remove it"
   ]
  },
  {
   "cell_type": "code",
   "execution_count": 213,
   "id": "3daa031b",
   "metadata": {},
   "outputs": [],
   "source": [
    "df.drop(['ownerType'], axis = 1, inplace = True)"
   ]
  },
  {
   "cell_type": "code",
   "execution_count": 214,
   "id": "bf5e76c0",
   "metadata": {},
   "outputs": [
    {
     "data": {
      "text/plain": [
       "2802220952    6\n",
       "2043814437    5\n",
       "2172714889    4\n",
       "1819702127    4\n",
       "3027203880    4\n",
       "             ..\n",
       "2722508444    1\n",
       "2883117786    1\n",
       "2047312603    1\n",
       "1951910110    1\n",
       "2389307252    1\n",
       "Name: ownerEdrpou, Length: 336, dtype: int64"
      ]
     },
     "execution_count": 214,
     "metadata": {},
     "output_type": "execute_result"
    }
   ],
   "source": [
    "#ownerEdrpou\n",
    "df['ownerEdrpou'].value_counts()"
   ]
  },
  {
   "cell_type": "code",
   "execution_count": 215,
   "id": "2ff2ab7b",
   "metadata": {},
   "outputs": [
    {
     "data": {
      "text/plain": [
       "Отян Сергій Григорович         6\n",
       "Крошка Микола Дмитрович        5\n",
       "Ізюмська Марія Іванівна        4\n",
       "Пікулик Ірина Станіславівна    4\n",
       "Святенко Олександр Павлович    4\n",
       "                              ..\n",
       "Ільченко Людмила Андріївна     1\n",
       "Бобро Валентина Петрівна       1\n",
       "Маріняк Микола Григорович      1\n",
       "Козін Олена Олексіївна         1\n",
       "Калашинська Олена Петрівна     1\n",
       "Name: ownerName, Length: 336, dtype: int64"
      ]
     },
     "execution_count": 215,
     "metadata": {},
     "output_type": "execute_result"
    }
   ],
   "source": [
    "#ownerName\n",
    "df['ownerName'].value_counts()"
   ]
  },
  {
   "cell_type": "markdown",
   "id": "a6a1d799",
   "metadata": {},
   "source": [
    "According to the distribution of the values it becomes obvious that the feature **ownerName** is the same as the previos feature **ownerEdrpou** displayed in different form. I believe we can remove it"
   ]
  },
  {
   "cell_type": "code",
   "execution_count": 216,
   "id": "6233a810",
   "metadata": {},
   "outputs": [],
   "source": [
    "df.drop(['ownerName'], axis = 1, inplace = True)"
   ]
  },
  {
   "cell_type": "code",
   "execution_count": 217,
   "id": "bb01466c",
   "metadata": {},
   "outputs": [
    {
     "data": {
      "text/plain": [
       "3.809635e+11    5\n",
       "3.809319e+11    4\n",
       "3.805021e+11    4\n",
       "3.806623e+11    4\n",
       "3.809942e+11    4\n",
       "               ..\n",
       "3.805020e+11    1\n",
       "3.806618e+11    1\n",
       "3.809735e+11    1\n",
       "3.805003e+11    1\n",
       "3.811111e+11    1\n",
       "Name: ownerPhone, Length: 267, dtype: int64"
      ]
     },
     "execution_count": 217,
     "metadata": {},
     "output_type": "execute_result"
    }
   ],
   "source": [
    "#ownerPhone\n",
    "df['ownerPhone'].value_counts()"
   ]
  },
  {
   "cell_type": "markdown",
   "id": "c413725b",
   "metadata": {},
   "source": [
    "The feature **ownerPhone** is also kind of a duplication of the **ownerEdrpou** feature. Also it has a lot of missing values. So we can remove it."
   ]
  },
  {
   "cell_type": "code",
   "execution_count": 218,
   "id": "7d5211b0",
   "metadata": {},
   "outputs": [],
   "source": [
    "df.drop(['ownerPhone'], axis = 1, inplace = True)"
   ]
  },
  {
   "cell_type": "code",
   "execution_count": 219,
   "id": "d8fdef6b",
   "metadata": {},
   "outputs": [
    {
     "data": {
      "text/plain": [
       "17.0    145\n",
       "22.0     85\n",
       "20.0     58\n",
       "23.0     51\n",
       "18.0     31\n",
       "19.0     30\n",
       "21.0     30\n",
       "15.0     15\n",
       "16.0      8\n",
       "14.0      8\n",
       "13.0      4\n",
       "Name: renterCompany, dtype: int64"
      ]
     },
     "execution_count": 219,
     "metadata": {},
     "output_type": "execute_result"
    }
   ],
   "source": [
    "#renterCompany\n",
    "df['renterCompany'].value_counts()"
   ]
  },
  {
   "cell_type": "code",
   "execution_count": 220,
   "id": "e3b4e2d6",
   "metadata": {},
   "outputs": [
    {
     "data": {
      "text/plain": [
       "0"
      ]
     },
     "execution_count": 220,
     "metadata": {},
     "output_type": "execute_result"
    }
   ],
   "source": [
    "df['renterCompany'].isnull().sum()"
   ]
  },
  {
   "cell_type": "code",
   "execution_count": 221,
   "id": "4641e213",
   "metadata": {},
   "outputs": [
    {
     "data": {
      "text/plain": [
       "2    465\n",
       "Name: renterType, dtype: int64"
      ]
     },
     "execution_count": 221,
     "metadata": {},
     "output_type": "execute_result"
    }
   ],
   "source": [
    "#renterType\n",
    "df['renterType'].value_counts()"
   ]
  },
  {
   "cell_type": "markdown",
   "id": "2623d4e2",
   "metadata": {},
   "source": [
    "The feature **renterType** has no variability, so we can get rid of this feature"
   ]
  },
  {
   "cell_type": "code",
   "execution_count": 222,
   "id": "94552ffd",
   "metadata": {},
   "outputs": [],
   "source": [
    "df.drop(['renterType'], axis = 1, inplace = True)"
   ]
  },
  {
   "cell_type": "code",
   "execution_count": 223,
   "id": "ce89a4c5",
   "metadata": {},
   "outputs": [
    {
     "data": {
      "text/plain": [
       "41101589    145\n",
       "34264631     85\n",
       "41104731     58\n",
       "41105190     51\n",
       "41107067     31\n",
       "41102163     30\n",
       "41103827     30\n",
       "41102844     15\n",
       "41104967      8\n",
       "41099127      8\n",
       "41481188      4\n",
       "Name: renterEdrpou, dtype: int64"
      ]
     },
     "execution_count": 223,
     "metadata": {},
     "output_type": "execute_result"
    }
   ],
   "source": [
    "#renterEdrpou\n",
    "df['renterEdrpou'].value_counts()"
   ]
  },
  {
   "cell_type": "code",
   "execution_count": 224,
   "id": "849db35b",
   "metadata": {},
   "outputs": [
    {
     "data": {
      "text/plain": [
       "ТОВ \"ЮТС-Агропродукт\"                         145\n",
       "ТОВ \"Райз Північ\"                              85\n",
       "ТОВ \"Райз-Схід\"                                58\n",
       "ТОВ \"Гетьманське\"                              51\n",
       "ТОВ \"Південь Агро Інвест\"                      31\n",
       "ТОВ \"Агро-Край\"                                30\n",
       "ТОВ \"Аграрне підприємство \"Придніпровське\"     30\n",
       "ТОВ \"Виробниче підприємство \"Полісся\"          15\n",
       "ТОВ \"Поділля Агропродукт\"                       8\n",
       "ТОВ \"Західна Агровиробнича компанія\"            8\n",
       "ТОВ \"Агрокомпанія Прикарпаття\"                  4\n",
       "Name: renterName, dtype: int64"
      ]
     },
     "execution_count": 224,
     "metadata": {},
     "output_type": "execute_result"
    }
   ],
   "source": [
    "#renterName\n",
    "df['renterName'].value_counts()"
   ]
  },
  {
   "cell_type": "markdown",
   "id": "2cdd9179",
   "metadata": {},
   "source": [
    "Basically the features **renterEdrpou** and **renterName** are the same value represented in the different ways, so we need to get rid of one of them. Probably, let's get rid of the **renterName** feature"
   ]
  },
  {
   "cell_type": "code",
   "execution_count": 225,
   "id": "0ec4f354",
   "metadata": {},
   "outputs": [],
   "source": [
    "df.drop(['renterName'], axis = 1, inplace = True)"
   ]
  },
  {
   "cell_type": "code",
   "execution_count": 226,
   "id": "65f77e08",
   "metadata": {},
   "outputs": [
    {
     "data": {
      "text/plain": [
       "Семенчук Оксана Олександрівна     118\n",
       "Горобець Рената Володимирівна      58\n",
       "Третьяков Віталій Васильович       51\n",
       "Батрак Мирослава Володимирівна     33\n",
       "Люц Вікторія Юріївна               23\n",
       "Семенчук Оксана Александровна      22\n",
       "Щур Вікторія Вікторівна            16\n",
       "Вовк Юрій Іванович                  8\n",
       "Вовк Олена Анатоліївна              8\n",
       "Мазур Олексій Михайлович            7\n",
       "Налисник Наталія Іванівна           2\n",
       "Кохно Юрій Антонович                2\n",
       "оробець Рената Володимирівна        1\n",
       "+380 (97) 589-80-43                 1\n",
       "1                                   1\n",
       "Name: renterContactName, dtype: int64"
      ]
     },
     "execution_count": 226,
     "metadata": {},
     "output_type": "execute_result"
    }
   ],
   "source": [
    "#renterContactName\n",
    "df['renterContactName'].value_counts()"
   ]
  },
  {
   "cell_type": "markdown",
   "id": "1f1e26eb",
   "metadata": {},
   "source": [
    "The **renterContactName** feature bring no extra value to the information, because it just represents contact persons of particular renter complanies. Apart from that it has a lot of missing values. So, it makes sense to get rid of this feature"
   ]
  },
  {
   "cell_type": "code",
   "execution_count": 227,
   "id": "cf6807e4",
   "metadata": {},
   "outputs": [],
   "source": [
    "df.drop(['renterContactName'], axis = 1, inplace = True)"
   ]
  },
  {
   "cell_type": "markdown",
   "id": "e500edba",
   "metadata": {},
   "source": [
    "The same is valid for the **renterContactPhone** feature"
   ]
  },
  {
   "cell_type": "code",
   "execution_count": 228,
   "id": "95e427f9",
   "metadata": {},
   "outputs": [],
   "source": [
    "df.drop(['renterContactPhone'], axis = 1, inplace = True)"
   ]
  },
  {
   "cell_type": "code",
   "execution_count": 229,
   "id": "eb5a18bd",
   "metadata": {},
   "outputs": [
    {
     "data": {
      "text/plain": [
       "False    465\n",
       "Name: canEdit, dtype: int64"
      ]
     },
     "execution_count": 229,
     "metadata": {},
     "output_type": "execute_result"
    }
   ],
   "source": [
    "#canEdit\n",
    "df['canEdit'].value_counts()"
   ]
  },
  {
   "cell_type": "markdown",
   "id": "37581dae",
   "metadata": {},
   "source": [
    "The **canEdit** feature looks like a purely technical feature without any variability also. Sp we can safely remove it from the dataset"
   ]
  },
  {
   "cell_type": "code",
   "execution_count": 230,
   "id": "d31e6cd3",
   "metadata": {},
   "outputs": [],
   "source": [
    "df.drop(['canEdit'], axis = 1, inplace = True)"
   ]
  },
  {
   "cell_type": "code",
   "execution_count": 231,
   "id": "3e1b763b",
   "metadata": {},
   "outputs": [
    {
     "data": {
      "text/plain": [
       "Series([], Name: author, dtype: int64)"
      ]
     },
     "execution_count": 231,
     "metadata": {},
     "output_type": "execute_result"
    }
   ],
   "source": [
    "#author\n",
    "df['author'].value_counts()"
   ]
  },
  {
   "cell_type": "markdown",
   "id": "327b9afb",
   "metadata": {},
   "source": [
    "The feature **author** is a technical feature with all empty values. Removing it."
   ]
  },
  {
   "cell_type": "code",
   "execution_count": 232,
   "id": "414b89b5",
   "metadata": {},
   "outputs": [],
   "source": [
    "df.drop(['author'], axis = 1, inplace = True)"
   ]
  },
  {
   "cell_type": "code",
   "execution_count": 233,
   "id": "7b1dd53b",
   "metadata": {},
   "outputs": [
    {
     "data": {
      "text/plain": [
       "{'id': 6, 'title': 'ULF', 'avatar': '/uploads/staff/holdingprofile/2021/06/30/ulf-logo.jpg'}    465\n",
       "Name: owner, dtype: int64"
      ]
     },
     "execution_count": 233,
     "metadata": {},
     "output_type": "execute_result"
    }
   ],
   "source": [
    "#owner\n",
    "df['owner'].value_counts()"
   ]
  },
  {
   "cell_type": "markdown",
   "id": "4003022e",
   "metadata": {},
   "source": [
    "The **owner** feature is another technical feature without variability. Removing it as well"
   ]
  },
  {
   "cell_type": "code",
   "execution_count": 234,
   "id": "2f198a50",
   "metadata": {},
   "outputs": [],
   "source": [
    "df.drop(['owner'], axis = 1, inplace = True)"
   ]
  },
  {
   "cell_type": "code",
   "execution_count": 235,
   "id": "196a4bfe",
   "metadata": {},
   "outputs": [
    {
     "data": {
      "text/plain": [
       "True     359\n",
       "False    106\n",
       "Name: isAvailable, dtype: int64"
      ]
     },
     "execution_count": 235,
     "metadata": {},
     "output_type": "execute_result"
    }
   ],
   "source": [
    "#isAvailable\n",
    "df['isAvailable'].value_counts()"
   ]
  },
  {
   "cell_type": "code",
   "execution_count": 238,
   "id": "a8f8607b",
   "metadata": {},
   "outputs": [],
   "source": [
    "df = df[df.isAvailable == True]"
   ]
  },
  {
   "cell_type": "markdown",
   "id": "4e89f927",
   "metadata": {},
   "source": [
    "#Let's convert **isAvailable** feature from boolean type to int"
   ]
  },
  {
   "cell_type": "code",
   "execution_count": null,
   "id": "2872e453",
   "metadata": {},
   "outputs": [],
   "source": [
    "#df['isAvailable'] = df['isAvailable'].apply(lambda x: 1 if True else 0)"
   ]
  },
  {
   "cell_type": "code",
   "execution_count": 239,
   "id": "11e38d54",
   "metadata": {},
   "outputs": [
    {
     "data": {
      "text/plain": [
       "[]    359\n",
       "Name: gallary, dtype: int64"
      ]
     },
     "execution_count": 239,
     "metadata": {},
     "output_type": "execute_result"
    }
   ],
   "source": [
    "#gallary\n",
    "df['gallary'].value_counts()"
   ]
  },
  {
   "cell_type": "markdown",
   "id": "e3e720c3",
   "metadata": {},
   "source": [
    "The last feature **gallary**  - is another technical feature with all empty values"
   ]
  },
  {
   "cell_type": "code",
   "execution_count": 240,
   "id": "1f8f51b6",
   "metadata": {},
   "outputs": [],
   "source": [
    "df.drop(['gallary'], axis = 1, inplace = True)"
   ]
  },
  {
   "cell_type": "markdown",
   "id": "3d2396d0",
   "metadata": {},
   "source": []
  },
  {
   "cell_type": "markdown",
   "id": "8b4ff806",
   "metadata": {},
   "source": [
    "#### Let's see now what dataset we have after EDA"
   ]
  },
  {
   "cell_type": "code",
   "execution_count": 241,
   "id": "f4c39515",
   "metadata": {},
   "outputs": [
    {
     "data": {
      "text/plain": [
       "(359, 21)"
      ]
     },
     "execution_count": 241,
     "metadata": {},
     "output_type": "execute_result"
    }
   ],
   "source": [
    "df.shape"
   ]
  },
  {
   "cell_type": "code",
   "execution_count": 242,
   "id": "fe9d5e15",
   "metadata": {},
   "outputs": [
    {
     "name": "stdout",
     "output_type": "stream",
     "text": [
      "<class 'pandas.core.frame.DataFrame'>\n",
      "Int64Index: 359 entries, 0 to 474\n",
      "Data columns (total 21 columns):\n",
      " #   Column                Non-Null Count  Dtype  \n",
      "---  ------                --------------  -----  \n",
      " 0   id                    359 non-null    int64  \n",
      " 1   status                359 non-null    int64  \n",
      " 2   cadastre              359 non-null    object \n",
      " 3   price                 359 non-null    int64  \n",
      " 4   pricePerOne           359 non-null    int64  \n",
      " 5   estimatePrice         359 non-null    int64  \n",
      " 6   rentRate              359 non-null    int64  \n",
      " 7   rentalYield           359 non-null    float64\n",
      " 8   purpose               359 non-null    int64  \n",
      " 9   koatuuLocation        359 non-null    object \n",
      " 10  ownerEdrpou           359 non-null    int64  \n",
      " 11  renterCompany         359 non-null    float64\n",
      " 12  renterEdrpou          359 non-null    int64  \n",
      " 13  isAvailable           359 non-null    bool   \n",
      " 14  estimateMonth         359 non-null    int64  \n",
      " 15  estimateDay           359 non-null    int64  \n",
      " 16  estimateYear          359 non-null    int64  \n",
      " 17  daysDelta             359 non-null    int64  \n",
      " 18  daysRentPayDelta      359 non-null    int64  \n",
      " 19  daysRentPayDeltaSign  359 non-null    int64  \n",
      " 20  area_win              359 non-null    float64\n",
      "dtypes: bool(1), float64(3), int64(15), object(2)\n",
      "memory usage: 59.2+ KB\n"
     ]
    }
   ],
   "source": [
    "df.info()"
   ]
  },
  {
   "cell_type": "code",
   "execution_count": 243,
   "id": "ba9d2fc2",
   "metadata": {},
   "outputs": [],
   "source": [
    "df.to_csv('land_lots_eda_available.csv', index=False)"
   ]
  },
  {
   "cell_type": "code",
   "execution_count": null,
   "id": "83a6c66c",
   "metadata": {},
   "outputs": [],
   "source": []
  }
 ],
 "metadata": {
  "kernelspec": {
   "display_name": "Python 3",
   "language": "python",
   "name": "python3"
  },
  "language_info": {
   "codemirror_mode": {
    "name": "ipython",
    "version": 3
   },
   "file_extension": ".py",
   "mimetype": "text/x-python",
   "name": "python",
   "nbconvert_exporter": "python",
   "pygments_lexer": "ipython3",
   "version": "3.8.8"
  }
 },
 "nbformat": 4,
 "nbformat_minor": 5
}
